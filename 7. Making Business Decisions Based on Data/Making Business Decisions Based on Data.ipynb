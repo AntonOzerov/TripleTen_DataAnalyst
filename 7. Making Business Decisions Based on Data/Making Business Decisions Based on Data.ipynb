{
 "cells": [
  {
   "cell_type": "markdown",
   "metadata": {},
   "source": [
    "# Libraries"
   ]
  },
  {
   "cell_type": "code",
   "execution_count": 2,
   "metadata": {},
   "outputs": [],
   "source": [
    "import pandas as pd\n",
    "import numpy as np\n",
    "from matplotlib import pyplot as plt\n",
    "import seaborn as sns\n",
    "import datetime as dt\n",
    "import scipy.stats as stats"
   ]
  },
  {
   "cell_type": "markdown",
   "metadata": {},
   "source": [
    "## Purpose"
   ]
  },
  {
   "cell_type": "markdown",
   "metadata": {},
   "source": [
    "An analyst at a big online store together with the marketing department have compiled a list of hypotheses that may help boost revenue.\n",
    "The goals of this project are:\n",
    "- to prioritize hypotheses\n",
    "- launch an A/B test\n",
    "- analyze the results and decide whether to: 1. Stop the test and consider one of the groups the leader. 2. Stop the test, conclude that there is no difference between the groups. 3. Continue the test.\n",
    "\n"
   ]
  },
  {
   "cell_type": "markdown",
   "metadata": {},
   "source": [
    "## Data preparation"
   ]
  },
  {
   "cell_type": "markdown",
   "metadata": {},
   "source": [
    "Let's first upload the datasets and investigate them"
   ]
  },
  {
   "cell_type": "code",
   "execution_count": 3,
   "metadata": {},
   "outputs": [],
   "source": [
    "\n",
    "hypos = pd.read_csv('/datasets/hypotheses_us.csv', sep=\";\" )\n",
    "pd.set_option('max_colwidth', 500)\n"
   ]
  },
  {
   "cell_type": "code",
   "execution_count": 4,
   "metadata": {},
   "outputs": [
    {
     "data": {
      "text/html": [
       "<div>\n",
       "<style scoped>\n",
       "    .dataframe tbody tr th:only-of-type {\n",
       "        vertical-align: middle;\n",
       "    }\n",
       "\n",
       "    .dataframe tbody tr th {\n",
       "        vertical-align: top;\n",
       "    }\n",
       "\n",
       "    .dataframe thead th {\n",
       "        text-align: right;\n",
       "    }\n",
       "</style>\n",
       "<table border=\"1\" class=\"dataframe\">\n",
       "  <thead>\n",
       "    <tr style=\"text-align: right;\">\n",
       "      <th></th>\n",
       "      <th>Hypothesis</th>\n",
       "      <th>Reach</th>\n",
       "      <th>Impact</th>\n",
       "      <th>Confidence</th>\n",
       "      <th>Effort</th>\n",
       "    </tr>\n",
       "  </thead>\n",
       "  <tbody>\n",
       "    <tr>\n",
       "      <th>0</th>\n",
       "      <td>Add two new channels for attracting traffic. This will bring 30% more users</td>\n",
       "      <td>3</td>\n",
       "      <td>10</td>\n",
       "      <td>8</td>\n",
       "      <td>6</td>\n",
       "    </tr>\n",
       "    <tr>\n",
       "      <th>1</th>\n",
       "      <td>Launch your own delivery service. This will shorten delivery time</td>\n",
       "      <td>2</td>\n",
       "      <td>5</td>\n",
       "      <td>4</td>\n",
       "      <td>10</td>\n",
       "    </tr>\n",
       "    <tr>\n",
       "      <th>2</th>\n",
       "      <td>Add product recommendation blocks to the store's site. This will increase conversion and average purchase size</td>\n",
       "      <td>8</td>\n",
       "      <td>3</td>\n",
       "      <td>7</td>\n",
       "      <td>3</td>\n",
       "    </tr>\n",
       "    <tr>\n",
       "      <th>3</th>\n",
       "      <td>Change the category structure. This will increase conversion since users will find the products they want more quickly</td>\n",
       "      <td>8</td>\n",
       "      <td>3</td>\n",
       "      <td>3</td>\n",
       "      <td>8</td>\n",
       "    </tr>\n",
       "    <tr>\n",
       "      <th>4</th>\n",
       "      <td>Change the background color on the main page. This will increase user engagement</td>\n",
       "      <td>3</td>\n",
       "      <td>1</td>\n",
       "      <td>1</td>\n",
       "      <td>1</td>\n",
       "    </tr>\n",
       "    <tr>\n",
       "      <th>5</th>\n",
       "      <td>Add a customer review page. This will increase the number of orders</td>\n",
       "      <td>3</td>\n",
       "      <td>2</td>\n",
       "      <td>2</td>\n",
       "      <td>3</td>\n",
       "    </tr>\n",
       "    <tr>\n",
       "      <th>6</th>\n",
       "      <td>Show banners with current offers and sales on the main page. This will boost conversion</td>\n",
       "      <td>5</td>\n",
       "      <td>3</td>\n",
       "      <td>8</td>\n",
       "      <td>3</td>\n",
       "    </tr>\n",
       "    <tr>\n",
       "      <th>7</th>\n",
       "      <td>Add a subscription form to all the main pages. This will help you compile a mailing list</td>\n",
       "      <td>10</td>\n",
       "      <td>7</td>\n",
       "      <td>8</td>\n",
       "      <td>5</td>\n",
       "    </tr>\n",
       "    <tr>\n",
       "      <th>8</th>\n",
       "      <td>Launch a promotion that gives users discounts on their birthdays</td>\n",
       "      <td>1</td>\n",
       "      <td>9</td>\n",
       "      <td>9</td>\n",
       "      <td>5</td>\n",
       "    </tr>\n",
       "  </tbody>\n",
       "</table>\n",
       "</div>"
      ],
      "text/plain": [
       "                                                                                                               Hypothesis  \\\n",
       "0                                             Add two new channels for attracting traffic. This will bring 30% more users   \n",
       "1                                                       Launch your own delivery service. This will shorten delivery time   \n",
       "2          Add product recommendation blocks to the store's site. This will increase conversion and average purchase size   \n",
       "3  Change the category structure. This will increase conversion since users will find the products they want more quickly   \n",
       "4                                        Change the background color on the main page. This will increase user engagement   \n",
       "5                                                     Add a customer review page. This will increase the number of orders   \n",
       "6                                 Show banners with current offers and sales on the main page. This will boost conversion   \n",
       "7                                Add a subscription form to all the main pages. This will help you compile a mailing list   \n",
       "8                                                        Launch a promotion that gives users discounts on their birthdays   \n",
       "\n",
       "   Reach  Impact  Confidence  Effort  \n",
       "0      3      10           8       6  \n",
       "1      2       5           4      10  \n",
       "2      8       3           7       3  \n",
       "3      8       3           3       8  \n",
       "4      3       1           1       1  \n",
       "5      3       2           2       3  \n",
       "6      5       3           8       3  \n",
       "7     10       7           8       5  \n",
       "8      1       9           9       5  "
      ]
     },
     "execution_count": 4,
     "metadata": {},
     "output_type": "execute_result"
    }
   ],
   "source": [
    "hypos"
   ]
  },
  {
   "cell_type": "markdown",
   "metadata": {},
   "source": [
    "**Column names are to be converted into lowercase**"
   ]
  },
  {
   "cell_type": "code",
   "execution_count": 5,
   "metadata": {},
   "outputs": [
    {
     "data": {
      "text/html": [
       "<div>\n",
       "<style scoped>\n",
       "    .dataframe tbody tr th:only-of-type {\n",
       "        vertical-align: middle;\n",
       "    }\n",
       "\n",
       "    .dataframe tbody tr th {\n",
       "        vertical-align: top;\n",
       "    }\n",
       "\n",
       "    .dataframe thead th {\n",
       "        text-align: right;\n",
       "    }\n",
       "</style>\n",
       "<table border=\"1\" class=\"dataframe\">\n",
       "  <thead>\n",
       "    <tr style=\"text-align: right;\">\n",
       "      <th></th>\n",
       "      <th>hypothesis</th>\n",
       "      <th>reach</th>\n",
       "      <th>impact</th>\n",
       "      <th>confidence</th>\n",
       "      <th>effort</th>\n",
       "    </tr>\n",
       "  </thead>\n",
       "  <tbody>\n",
       "    <tr>\n",
       "      <th>0</th>\n",
       "      <td>Add two new channels for attracting traffic. This will bring 30% more users</td>\n",
       "      <td>3</td>\n",
       "      <td>10</td>\n",
       "      <td>8</td>\n",
       "      <td>6</td>\n",
       "    </tr>\n",
       "    <tr>\n",
       "      <th>1</th>\n",
       "      <td>Launch your own delivery service. This will shorten delivery time</td>\n",
       "      <td>2</td>\n",
       "      <td>5</td>\n",
       "      <td>4</td>\n",
       "      <td>10</td>\n",
       "    </tr>\n",
       "    <tr>\n",
       "      <th>2</th>\n",
       "      <td>Add product recommendation blocks to the store's site. This will increase conversion and average purchase size</td>\n",
       "      <td>8</td>\n",
       "      <td>3</td>\n",
       "      <td>7</td>\n",
       "      <td>3</td>\n",
       "    </tr>\n",
       "    <tr>\n",
       "      <th>3</th>\n",
       "      <td>Change the category structure. This will increase conversion since users will find the products they want more quickly</td>\n",
       "      <td>8</td>\n",
       "      <td>3</td>\n",
       "      <td>3</td>\n",
       "      <td>8</td>\n",
       "    </tr>\n",
       "    <tr>\n",
       "      <th>4</th>\n",
       "      <td>Change the background color on the main page. This will increase user engagement</td>\n",
       "      <td>3</td>\n",
       "      <td>1</td>\n",
       "      <td>1</td>\n",
       "      <td>1</td>\n",
       "    </tr>\n",
       "    <tr>\n",
       "      <th>5</th>\n",
       "      <td>Add a customer review page. This will increase the number of orders</td>\n",
       "      <td>3</td>\n",
       "      <td>2</td>\n",
       "      <td>2</td>\n",
       "      <td>3</td>\n",
       "    </tr>\n",
       "    <tr>\n",
       "      <th>6</th>\n",
       "      <td>Show banners with current offers and sales on the main page. This will boost conversion</td>\n",
       "      <td>5</td>\n",
       "      <td>3</td>\n",
       "      <td>8</td>\n",
       "      <td>3</td>\n",
       "    </tr>\n",
       "    <tr>\n",
       "      <th>7</th>\n",
       "      <td>Add a subscription form to all the main pages. This will help you compile a mailing list</td>\n",
       "      <td>10</td>\n",
       "      <td>7</td>\n",
       "      <td>8</td>\n",
       "      <td>5</td>\n",
       "    </tr>\n",
       "    <tr>\n",
       "      <th>8</th>\n",
       "      <td>Launch a promotion that gives users discounts on their birthdays</td>\n",
       "      <td>1</td>\n",
       "      <td>9</td>\n",
       "      <td>9</td>\n",
       "      <td>5</td>\n",
       "    </tr>\n",
       "  </tbody>\n",
       "</table>\n",
       "</div>"
      ],
      "text/plain": [
       "                                                                                                               hypothesis  \\\n",
       "0                                             Add two new channels for attracting traffic. This will bring 30% more users   \n",
       "1                                                       Launch your own delivery service. This will shorten delivery time   \n",
       "2          Add product recommendation blocks to the store's site. This will increase conversion and average purchase size   \n",
       "3  Change the category structure. This will increase conversion since users will find the products they want more quickly   \n",
       "4                                        Change the background color on the main page. This will increase user engagement   \n",
       "5                                                     Add a customer review page. This will increase the number of orders   \n",
       "6                                 Show banners with current offers and sales on the main page. This will boost conversion   \n",
       "7                                Add a subscription form to all the main pages. This will help you compile a mailing list   \n",
       "8                                                        Launch a promotion that gives users discounts on their birthdays   \n",
       "\n",
       "   reach  impact  confidence  effort  \n",
       "0      3      10           8       6  \n",
       "1      2       5           4      10  \n",
       "2      8       3           7       3  \n",
       "3      8       3           3       8  \n",
       "4      3       1           1       1  \n",
       "5      3       2           2       3  \n",
       "6      5       3           8       3  \n",
       "7     10       7           8       5  \n",
       "8      1       9           9       5  "
      ]
     },
     "execution_count": 5,
     "metadata": {},
     "output_type": "execute_result"
    }
   ],
   "source": [
    "hypos.columns = hypos.columns.str.lower()\n",
    "hypos"
   ]
  },
  {
   "cell_type": "code",
   "execution_count": 6,
   "metadata": {},
   "outputs": [],
   "source": [
    "orders = pd.read_csv('/datasets/orders_us.csv')"
   ]
  },
  {
   "cell_type": "code",
   "execution_count": 7,
   "metadata": {},
   "outputs": [
    {
     "data": {
      "text/html": [
       "<div>\n",
       "<style scoped>\n",
       "    .dataframe tbody tr th:only-of-type {\n",
       "        vertical-align: middle;\n",
       "    }\n",
       "\n",
       "    .dataframe tbody tr th {\n",
       "        vertical-align: top;\n",
       "    }\n",
       "\n",
       "    .dataframe thead th {\n",
       "        text-align: right;\n",
       "    }\n",
       "</style>\n",
       "<table border=\"1\" class=\"dataframe\">\n",
       "  <thead>\n",
       "    <tr style=\"text-align: right;\">\n",
       "      <th></th>\n",
       "      <th>transactionId</th>\n",
       "      <th>visitorId</th>\n",
       "      <th>date</th>\n",
       "      <th>revenue</th>\n",
       "      <th>group</th>\n",
       "    </tr>\n",
       "  </thead>\n",
       "  <tbody>\n",
       "    <tr>\n",
       "      <th>0</th>\n",
       "      <td>3667963787</td>\n",
       "      <td>3312258926</td>\n",
       "      <td>2019-08-15</td>\n",
       "      <td>30.4</td>\n",
       "      <td>B</td>\n",
       "    </tr>\n",
       "    <tr>\n",
       "      <th>1</th>\n",
       "      <td>2804400009</td>\n",
       "      <td>3642806036</td>\n",
       "      <td>2019-08-15</td>\n",
       "      <td>15.2</td>\n",
       "      <td>B</td>\n",
       "    </tr>\n",
       "    <tr>\n",
       "      <th>2</th>\n",
       "      <td>2961555356</td>\n",
       "      <td>4069496402</td>\n",
       "      <td>2019-08-15</td>\n",
       "      <td>10.2</td>\n",
       "      <td>A</td>\n",
       "    </tr>\n",
       "    <tr>\n",
       "      <th>3</th>\n",
       "      <td>3797467345</td>\n",
       "      <td>1196621759</td>\n",
       "      <td>2019-08-15</td>\n",
       "      <td>155.1</td>\n",
       "      <td>B</td>\n",
       "    </tr>\n",
       "    <tr>\n",
       "      <th>4</th>\n",
       "      <td>2282983706</td>\n",
       "      <td>2322279887</td>\n",
       "      <td>2019-08-15</td>\n",
       "      <td>40.5</td>\n",
       "      <td>B</td>\n",
       "    </tr>\n",
       "    <tr>\n",
       "      <th>...</th>\n",
       "      <td>...</td>\n",
       "      <td>...</td>\n",
       "      <td>...</td>\n",
       "      <td>...</td>\n",
       "      <td>...</td>\n",
       "    </tr>\n",
       "    <tr>\n",
       "      <th>1192</th>\n",
       "      <td>2662137336</td>\n",
       "      <td>3733762160</td>\n",
       "      <td>2019-08-14</td>\n",
       "      <td>100.8</td>\n",
       "      <td>B</td>\n",
       "    </tr>\n",
       "    <tr>\n",
       "      <th>1193</th>\n",
       "      <td>2203539145</td>\n",
       "      <td>370388673</td>\n",
       "      <td>2019-08-14</td>\n",
       "      <td>50.1</td>\n",
       "      <td>A</td>\n",
       "    </tr>\n",
       "    <tr>\n",
       "      <th>1194</th>\n",
       "      <td>1807773912</td>\n",
       "      <td>573423106</td>\n",
       "      <td>2019-08-14</td>\n",
       "      <td>165.3</td>\n",
       "      <td>A</td>\n",
       "    </tr>\n",
       "    <tr>\n",
       "      <th>1195</th>\n",
       "      <td>1947021204</td>\n",
       "      <td>1614305549</td>\n",
       "      <td>2019-08-14</td>\n",
       "      <td>5.5</td>\n",
       "      <td>A</td>\n",
       "    </tr>\n",
       "    <tr>\n",
       "      <th>1196</th>\n",
       "      <td>3936777065</td>\n",
       "      <td>2108080724</td>\n",
       "      <td>2019-08-15</td>\n",
       "      <td>3120.1</td>\n",
       "      <td>B</td>\n",
       "    </tr>\n",
       "  </tbody>\n",
       "</table>\n",
       "<p>1197 rows × 5 columns</p>\n",
       "</div>"
      ],
      "text/plain": [
       "      transactionId   visitorId        date  revenue group\n",
       "0        3667963787  3312258926  2019-08-15     30.4     B\n",
       "1        2804400009  3642806036  2019-08-15     15.2     B\n",
       "2        2961555356  4069496402  2019-08-15     10.2     A\n",
       "3        3797467345  1196621759  2019-08-15    155.1     B\n",
       "4        2282983706  2322279887  2019-08-15     40.5     B\n",
       "...             ...         ...         ...      ...   ...\n",
       "1192     2662137336  3733762160  2019-08-14    100.8     B\n",
       "1193     2203539145   370388673  2019-08-14     50.1     A\n",
       "1194     1807773912   573423106  2019-08-14    165.3     A\n",
       "1195     1947021204  1614305549  2019-08-14      5.5     A\n",
       "1196     3936777065  2108080724  2019-08-15   3120.1     B\n",
       "\n",
       "[1197 rows x 5 columns]"
      ]
     },
     "execution_count": 7,
     "metadata": {},
     "output_type": "execute_result"
    }
   ],
   "source": [
    "orders"
   ]
  },
  {
   "cell_type": "code",
   "execution_count": 8,
   "metadata": {},
   "outputs": [
    {
     "name": "stdout",
     "output_type": "stream",
     "text": [
      "<class 'pandas.core.frame.DataFrame'>\n",
      "RangeIndex: 1197 entries, 0 to 1196\n",
      "Data columns (total 5 columns):\n",
      " #   Column         Non-Null Count  Dtype  \n",
      "---  ------         --------------  -----  \n",
      " 0   transactionId  1197 non-null   int64  \n",
      " 1   visitorId      1197 non-null   int64  \n",
      " 2   date           1197 non-null   object \n",
      " 3   revenue        1197 non-null   float64\n",
      " 4   group          1197 non-null   object \n",
      "dtypes: float64(1), int64(2), object(2)\n",
      "memory usage: 46.9+ KB\n"
     ]
    }
   ],
   "source": [
    "orders.info()"
   ]
  },
  {
   "cell_type": "markdown",
   "metadata": {},
   "source": [
    "**The date column has a wrong date type and column names are to be converted into lowercase. Let's chage it to datetime**"
   ]
  },
  {
   "cell_type": "code",
   "execution_count": 9,
   "metadata": {},
   "outputs": [
    {
     "data": {
      "text/html": [
       "<div>\n",
       "<style scoped>\n",
       "    .dataframe tbody tr th:only-of-type {\n",
       "        vertical-align: middle;\n",
       "    }\n",
       "\n",
       "    .dataframe tbody tr th {\n",
       "        vertical-align: top;\n",
       "    }\n",
       "\n",
       "    .dataframe thead th {\n",
       "        text-align: right;\n",
       "    }\n",
       "</style>\n",
       "<table border=\"1\" class=\"dataframe\">\n",
       "  <thead>\n",
       "    <tr style=\"text-align: right;\">\n",
       "      <th></th>\n",
       "      <th>transactionid</th>\n",
       "      <th>visitorid</th>\n",
       "      <th>date</th>\n",
       "      <th>revenue</th>\n",
       "      <th>group</th>\n",
       "    </tr>\n",
       "  </thead>\n",
       "  <tbody>\n",
       "    <tr>\n",
       "      <th>0</th>\n",
       "      <td>3667963787</td>\n",
       "      <td>3312258926</td>\n",
       "      <td>2019-08-15</td>\n",
       "      <td>30.4</td>\n",
       "      <td>B</td>\n",
       "    </tr>\n",
       "  </tbody>\n",
       "</table>\n",
       "</div>"
      ],
      "text/plain": [
       "   transactionid   visitorid        date  revenue group\n",
       "0     3667963787  3312258926  2019-08-15     30.4     B"
      ]
     },
     "metadata": {},
     "output_type": "display_data"
    }
   ],
   "source": [
    "#Changing columns case to lowercase\n",
    "orders.columns = orders.columns.str.lower()\n",
    "display(orders.head(1))"
   ]
  },
  {
   "cell_type": "code",
   "execution_count": 10,
   "metadata": {},
   "outputs": [],
   "source": [
    "orders['date']=orders['date'].map(\n",
    "    lambda x: dt.datetime.strptime(x, '%Y-%m-%d')\n",
    ")"
   ]
  },
  {
   "cell_type": "code",
   "execution_count": 11,
   "metadata": {},
   "outputs": [
    {
     "name": "stdout",
     "output_type": "stream",
     "text": [
      "<class 'pandas.core.frame.DataFrame'>\n",
      "RangeIndex: 1197 entries, 0 to 1196\n",
      "Data columns (total 5 columns):\n",
      " #   Column         Non-Null Count  Dtype         \n",
      "---  ------         --------------  -----         \n",
      " 0   transactionid  1197 non-null   int64         \n",
      " 1   visitorid      1197 non-null   int64         \n",
      " 2   date           1197 non-null   datetime64[ns]\n",
      " 3   revenue        1197 non-null   float64       \n",
      " 4   group          1197 non-null   object        \n",
      "dtypes: datetime64[ns](1), float64(1), int64(2), object(1)\n",
      "memory usage: 46.9+ KB\n"
     ]
    }
   ],
   "source": [
    "#Checking if the data type has been changed successfully\n",
    "orders.info()"
   ]
  },
  {
   "cell_type": "markdown",
   "metadata": {},
   "source": [
    "**Let's check, whether each visitor was assigned to one an only group: either A or B**"
   ]
  },
  {
   "cell_type": "code",
   "execution_count": 12,
   "metadata": {},
   "outputs": [
    {
     "name": "stdout",
     "output_type": "stream",
     "text": [
      "There are: 58 unique visitors in the orders dataset that are assigned to more than 1 group\n"
     ]
    }
   ],
   "source": [
    "#Counting the number of users assigned to more than 1 group\n",
    "errors = orders.groupby('visitorid').agg({'group':'nunique'}).reset_index().query('group != 1')['visitorid'].count()\n",
    "\n",
    "print(f'There are: {errors} unique visitors in the orders dataset that are assigned to more than 1 group')"
   ]
  },
  {
   "cell_type": "markdown",
   "metadata": {},
   "source": [
    "**Looks like there are mistakes with group assignment in the data. Now, let's establish the scope of the issue.**"
   ]
  },
  {
   "cell_type": "code",
   "execution_count": 13,
   "metadata": {},
   "outputs": [
    {
     "name": "stdout",
     "output_type": "stream",
     "text": [
      "There are: 1031 unique visitors in total\n"
     ]
    }
   ],
   "source": [
    "#Counting total number of users \n",
    "total_visitors = orders.groupby('visitorid').agg({'group':'nunique'}).reset_index()['visitorid'].count()\n",
    "\n",
    "print(f\"There are: {total_visitors} unique visitors in total\")"
   ]
  },
  {
   "cell_type": "code",
   "execution_count": 14,
   "metadata": {},
   "outputs": [
    {
     "name": "stdout",
     "output_type": "stream",
     "text": [
      "There are: 5.6% unique visitors in total\n"
     ]
    }
   ],
   "source": [
    "#Erroneous visitor relative to total number\n",
    "\n",
    "print(f\"There are: {errors/total_visitors:.1%} unique visitors in total\")\n"
   ]
  },
  {
   "cell_type": "markdown",
   "metadata": {},
   "source": [
    "**The share of erroneous data is not significant. Therefore, it is necessary to drop this data, because it is unclear where the mistakes stem from.**"
   ]
  },
  {
   "cell_type": "code",
   "execution_count": 15,
   "metadata": {},
   "outputs": [
    {
     "name": "stdout",
     "output_type": "stream",
     "text": [
      "We have filtered 181 unique users from the oroginal orders dataset\n"
     ]
    }
   ],
   "source": [
    "#Dropping the rows with visitorId, that have been assigned to more than 1 group\n",
    "errors_to_drop = orders.groupby('visitorid').agg({'group':'nunique'}).reset_index().query('group != 1')['visitorid'].to_list()\n",
    "orders_filtered = orders[~orders['visitorid'].isin(errors_to_drop)]\n",
    "\n",
    "print(f\"We have filtered {len(orders)-len(orders_filtered)} unique users from the oroginal orders dataset\")\n",
    "\n",
    "\n"
   ]
  },
  {
   "cell_type": "code",
   "execution_count": 16,
   "metadata": {},
   "outputs": [],
   "source": [
    "visits = pd.read_csv('/datasets/visits_us.csv', sep=\",\" )"
   ]
  },
  {
   "cell_type": "code",
   "execution_count": 17,
   "metadata": {},
   "outputs": [
    {
     "data": {
      "text/html": [
       "<div>\n",
       "<style scoped>\n",
       "    .dataframe tbody tr th:only-of-type {\n",
       "        vertical-align: middle;\n",
       "    }\n",
       "\n",
       "    .dataframe tbody tr th {\n",
       "        vertical-align: top;\n",
       "    }\n",
       "\n",
       "    .dataframe thead th {\n",
       "        text-align: right;\n",
       "    }\n",
       "</style>\n",
       "<table border=\"1\" class=\"dataframe\">\n",
       "  <thead>\n",
       "    <tr style=\"text-align: right;\">\n",
       "      <th></th>\n",
       "      <th>date</th>\n",
       "      <th>group</th>\n",
       "      <th>visits</th>\n",
       "    </tr>\n",
       "  </thead>\n",
       "  <tbody>\n",
       "    <tr>\n",
       "      <th>0</th>\n",
       "      <td>2019-08-01</td>\n",
       "      <td>A</td>\n",
       "      <td>719</td>\n",
       "    </tr>\n",
       "    <tr>\n",
       "      <th>1</th>\n",
       "      <td>2019-08-02</td>\n",
       "      <td>A</td>\n",
       "      <td>619</td>\n",
       "    </tr>\n",
       "    <tr>\n",
       "      <th>2</th>\n",
       "      <td>2019-08-03</td>\n",
       "      <td>A</td>\n",
       "      <td>507</td>\n",
       "    </tr>\n",
       "    <tr>\n",
       "      <th>3</th>\n",
       "      <td>2019-08-04</td>\n",
       "      <td>A</td>\n",
       "      <td>717</td>\n",
       "    </tr>\n",
       "    <tr>\n",
       "      <th>4</th>\n",
       "      <td>2019-08-05</td>\n",
       "      <td>A</td>\n",
       "      <td>756</td>\n",
       "    </tr>\n",
       "    <tr>\n",
       "      <th>...</th>\n",
       "      <td>...</td>\n",
       "      <td>...</td>\n",
       "      <td>...</td>\n",
       "    </tr>\n",
       "    <tr>\n",
       "      <th>57</th>\n",
       "      <td>2019-08-27</td>\n",
       "      <td>B</td>\n",
       "      <td>720</td>\n",
       "    </tr>\n",
       "    <tr>\n",
       "      <th>58</th>\n",
       "      <td>2019-08-28</td>\n",
       "      <td>B</td>\n",
       "      <td>654</td>\n",
       "    </tr>\n",
       "    <tr>\n",
       "      <th>59</th>\n",
       "      <td>2019-08-29</td>\n",
       "      <td>B</td>\n",
       "      <td>531</td>\n",
       "    </tr>\n",
       "    <tr>\n",
       "      <th>60</th>\n",
       "      <td>2019-08-30</td>\n",
       "      <td>B</td>\n",
       "      <td>490</td>\n",
       "    </tr>\n",
       "    <tr>\n",
       "      <th>61</th>\n",
       "      <td>2019-08-31</td>\n",
       "      <td>B</td>\n",
       "      <td>718</td>\n",
       "    </tr>\n",
       "  </tbody>\n",
       "</table>\n",
       "<p>62 rows × 3 columns</p>\n",
       "</div>"
      ],
      "text/plain": [
       "          date group  visits\n",
       "0   2019-08-01     A     719\n",
       "1   2019-08-02     A     619\n",
       "2   2019-08-03     A     507\n",
       "3   2019-08-04     A     717\n",
       "4   2019-08-05     A     756\n",
       "..         ...   ...     ...\n",
       "57  2019-08-27     B     720\n",
       "58  2019-08-28     B     654\n",
       "59  2019-08-29     B     531\n",
       "60  2019-08-30     B     490\n",
       "61  2019-08-31     B     718\n",
       "\n",
       "[62 rows x 3 columns]"
      ]
     },
     "execution_count": 17,
     "metadata": {},
     "output_type": "execute_result"
    }
   ],
   "source": [
    "visits"
   ]
  },
  {
   "cell_type": "code",
   "execution_count": 18,
   "metadata": {},
   "outputs": [
    {
     "name": "stdout",
     "output_type": "stream",
     "text": [
      "<class 'pandas.core.frame.DataFrame'>\n",
      "RangeIndex: 62 entries, 0 to 61\n",
      "Data columns (total 3 columns):\n",
      " #   Column  Non-Null Count  Dtype \n",
      "---  ------  --------------  ----- \n",
      " 0   date    62 non-null     object\n",
      " 1   group   62 non-null     object\n",
      " 2   visits  62 non-null     int64 \n",
      "dtypes: int64(1), object(2)\n",
      "memory usage: 1.6+ KB\n"
     ]
    }
   ],
   "source": [
    "visits.info()"
   ]
  },
  {
   "cell_type": "markdown",
   "metadata": {},
   "source": [
    "**Date column in visits table contains wrong data type, let's fix this.**"
   ]
  },
  {
   "cell_type": "code",
   "execution_count": 19,
   "metadata": {},
   "outputs": [
    {
     "name": "stdout",
     "output_type": "stream",
     "text": [
      "<class 'pandas.core.frame.DataFrame'>\n",
      "RangeIndex: 62 entries, 0 to 61\n",
      "Data columns (total 3 columns):\n",
      " #   Column  Non-Null Count  Dtype         \n",
      "---  ------  --------------  -----         \n",
      " 0   date    62 non-null     datetime64[ns]\n",
      " 1   group   62 non-null     object        \n",
      " 2   visits  62 non-null     int64         \n",
      "dtypes: datetime64[ns](1), int64(1), object(1)\n",
      "memory usage: 1.6+ KB\n"
     ]
    }
   ],
   "source": [
    "visits['date']= visits['date'].astype('datetime64')\n",
    "visits.info()"
   ]
  },
  {
   "cell_type": "markdown",
   "metadata": {},
   "source": [
    "## Prioritizing Hypotheses"
   ]
  },
  {
   "cell_type": "markdown",
   "metadata": {},
   "source": [
    "The file hypotheses_us.csv contains nine hypotheses on boosting an online store's revenue with Reach, Impact, Confidence, and Effortspecified for each.\n",
    "\n",
    "\n",
    "\n",
    "The task is to:\n",
    "Apply the ICE framework to prioritize hypotheses. \n",
    "\n",
    "Sort them in descending order of priority.\n",
    "\n",
    "\n",
    "Apply the RICE framework to prioritize hypotheses. \n",
    "\n",
    "Sort them in descending order of priority.\n",
    "\n",
    "\n",
    "Show how the prioritization of hypotheses changes when you use RICE instead of ICE. \n",
    "\n",
    "Provide an explanation for the changes.\n"
   ]
  },
  {
   "cell_type": "code",
   "execution_count": 20,
   "metadata": {},
   "outputs": [
    {
     "data": {
      "text/html": [
       "<div>\n",
       "<style scoped>\n",
       "    .dataframe tbody tr th:only-of-type {\n",
       "        vertical-align: middle;\n",
       "    }\n",
       "\n",
       "    .dataframe tbody tr th {\n",
       "        vertical-align: top;\n",
       "    }\n",
       "\n",
       "    .dataframe thead th {\n",
       "        text-align: right;\n",
       "    }\n",
       "</style>\n",
       "<table border=\"1\" class=\"dataframe\">\n",
       "  <thead>\n",
       "    <tr style=\"text-align: right;\">\n",
       "      <th></th>\n",
       "      <th>hypothesis</th>\n",
       "      <th>reach</th>\n",
       "      <th>impact</th>\n",
       "      <th>confidence</th>\n",
       "      <th>effort</th>\n",
       "    </tr>\n",
       "  </thead>\n",
       "  <tbody>\n",
       "    <tr>\n",
       "      <th>0</th>\n",
       "      <td>Add two new channels for attracting traffic. This will bring 30% more users</td>\n",
       "      <td>3</td>\n",
       "      <td>10</td>\n",
       "      <td>8</td>\n",
       "      <td>6</td>\n",
       "    </tr>\n",
       "    <tr>\n",
       "      <th>1</th>\n",
       "      <td>Launch your own delivery service. This will shorten delivery time</td>\n",
       "      <td>2</td>\n",
       "      <td>5</td>\n",
       "      <td>4</td>\n",
       "      <td>10</td>\n",
       "    </tr>\n",
       "    <tr>\n",
       "      <th>2</th>\n",
       "      <td>Add product recommendation blocks to the store's site. This will increase conversion and average purchase size</td>\n",
       "      <td>8</td>\n",
       "      <td>3</td>\n",
       "      <td>7</td>\n",
       "      <td>3</td>\n",
       "    </tr>\n",
       "    <tr>\n",
       "      <th>3</th>\n",
       "      <td>Change the category structure. This will increase conversion since users will find the products they want more quickly</td>\n",
       "      <td>8</td>\n",
       "      <td>3</td>\n",
       "      <td>3</td>\n",
       "      <td>8</td>\n",
       "    </tr>\n",
       "    <tr>\n",
       "      <th>4</th>\n",
       "      <td>Change the background color on the main page. This will increase user engagement</td>\n",
       "      <td>3</td>\n",
       "      <td>1</td>\n",
       "      <td>1</td>\n",
       "      <td>1</td>\n",
       "    </tr>\n",
       "    <tr>\n",
       "      <th>5</th>\n",
       "      <td>Add a customer review page. This will increase the number of orders</td>\n",
       "      <td>3</td>\n",
       "      <td>2</td>\n",
       "      <td>2</td>\n",
       "      <td>3</td>\n",
       "    </tr>\n",
       "    <tr>\n",
       "      <th>6</th>\n",
       "      <td>Show banners with current offers and sales on the main page. This will boost conversion</td>\n",
       "      <td>5</td>\n",
       "      <td>3</td>\n",
       "      <td>8</td>\n",
       "      <td>3</td>\n",
       "    </tr>\n",
       "    <tr>\n",
       "      <th>7</th>\n",
       "      <td>Add a subscription form to all the main pages. This will help you compile a mailing list</td>\n",
       "      <td>10</td>\n",
       "      <td>7</td>\n",
       "      <td>8</td>\n",
       "      <td>5</td>\n",
       "    </tr>\n",
       "    <tr>\n",
       "      <th>8</th>\n",
       "      <td>Launch a promotion that gives users discounts on their birthdays</td>\n",
       "      <td>1</td>\n",
       "      <td>9</td>\n",
       "      <td>9</td>\n",
       "      <td>5</td>\n",
       "    </tr>\n",
       "  </tbody>\n",
       "</table>\n",
       "</div>"
      ],
      "text/plain": [
       "                                                                                                               hypothesis  \\\n",
       "0                                             Add two new channels for attracting traffic. This will bring 30% more users   \n",
       "1                                                       Launch your own delivery service. This will shorten delivery time   \n",
       "2          Add product recommendation blocks to the store's site. This will increase conversion and average purchase size   \n",
       "3  Change the category structure. This will increase conversion since users will find the products they want more quickly   \n",
       "4                                        Change the background color on the main page. This will increase user engagement   \n",
       "5                                                     Add a customer review page. This will increase the number of orders   \n",
       "6                                 Show banners with current offers and sales on the main page. This will boost conversion   \n",
       "7                                Add a subscription form to all the main pages. This will help you compile a mailing list   \n",
       "8                                                        Launch a promotion that gives users discounts on their birthdays   \n",
       "\n",
       "   reach  impact  confidence  effort  \n",
       "0      3      10           8       6  \n",
       "1      2       5           4      10  \n",
       "2      8       3           7       3  \n",
       "3      8       3           3       8  \n",
       "4      3       1           1       1  \n",
       "5      3       2           2       3  \n",
       "6      5       3           8       3  \n",
       "7     10       7           8       5  \n",
       "8      1       9           9       5  "
      ]
     },
     "execution_count": 20,
     "metadata": {},
     "output_type": "execute_result"
    }
   ],
   "source": [
    "hypos"
   ]
  },
  {
   "cell_type": "markdown",
   "metadata": {},
   "source": [
    "**Now let's apply the ICE and RICE frameworks to prioritize hypotheses and sort them in descending order of priority.**\n",
    "\n"
   ]
  },
  {
   "cell_type": "code",
   "execution_count": 21,
   "metadata": {},
   "outputs": [],
   "source": [
    "# Adding columns for ICE and RICE frameworks \n",
    "hypos['ice'] = (hypos['impact']*hypos['confidence'])/hypos['effort'].sort_values(ascending=False)\n",
    "hypos['rice'] = ((hypos['reach']*hypos['impact']*hypos['confidence'])/hypos['effort']).sort_values(ascending=False)\n",
    "# Adding rank columns to make for easier comparison between the two frameworks\n",
    "hypos['ice_rank'] = hypos['ice'].rank(method='min').astype(int)\n",
    "hypos['rice_rank'] = hypos['rice'].rank(method='min').astype(int)\n"
   ]
  },
  {
   "cell_type": "code",
   "execution_count": 22,
   "metadata": {},
   "outputs": [
    {
     "data": {
      "text/html": [
       "<div>\n",
       "<style scoped>\n",
       "    .dataframe tbody tr th:only-of-type {\n",
       "        vertical-align: middle;\n",
       "    }\n",
       "\n",
       "    .dataframe tbody tr th {\n",
       "        vertical-align: top;\n",
       "    }\n",
       "\n",
       "    .dataframe thead th {\n",
       "        text-align: right;\n",
       "    }\n",
       "</style>\n",
       "<table border=\"1\" class=\"dataframe\">\n",
       "  <thead>\n",
       "    <tr style=\"text-align: right;\">\n",
       "      <th></th>\n",
       "      <th>hypothesis</th>\n",
       "      <th>reach</th>\n",
       "      <th>impact</th>\n",
       "      <th>confidence</th>\n",
       "      <th>effort</th>\n",
       "      <th>ice</th>\n",
       "      <th>rice</th>\n",
       "      <th>ice_rank</th>\n",
       "      <th>rice_rank</th>\n",
       "    </tr>\n",
       "  </thead>\n",
       "  <tbody>\n",
       "    <tr>\n",
       "      <th>8</th>\n",
       "      <td>Launch a promotion that gives users discounts on their birthdays</td>\n",
       "      <td>1</td>\n",
       "      <td>9</td>\n",
       "      <td>9</td>\n",
       "      <td>5</td>\n",
       "      <td>16.20</td>\n",
       "      <td>16.2</td>\n",
       "      <td>9</td>\n",
       "      <td>5</td>\n",
       "    </tr>\n",
       "    <tr>\n",
       "      <th>0</th>\n",
       "      <td>Add two new channels for attracting traffic. This will bring 30% more users</td>\n",
       "      <td>3</td>\n",
       "      <td>10</td>\n",
       "      <td>8</td>\n",
       "      <td>6</td>\n",
       "      <td>13.33</td>\n",
       "      <td>40.0</td>\n",
       "      <td>8</td>\n",
       "      <td>6</td>\n",
       "    </tr>\n",
       "    <tr>\n",
       "      <th>7</th>\n",
       "      <td>Add a subscription form to all the main pages. This will help you compile a mailing list</td>\n",
       "      <td>10</td>\n",
       "      <td>7</td>\n",
       "      <td>8</td>\n",
       "      <td>5</td>\n",
       "      <td>11.20</td>\n",
       "      <td>112.0</td>\n",
       "      <td>7</td>\n",
       "      <td>9</td>\n",
       "    </tr>\n",
       "    <tr>\n",
       "      <th>6</th>\n",
       "      <td>Show banners with current offers and sales on the main page. This will boost conversion</td>\n",
       "      <td>5</td>\n",
       "      <td>3</td>\n",
       "      <td>8</td>\n",
       "      <td>3</td>\n",
       "      <td>8.00</td>\n",
       "      <td>40.0</td>\n",
       "      <td>6</td>\n",
       "      <td>6</td>\n",
       "    </tr>\n",
       "    <tr>\n",
       "      <th>2</th>\n",
       "      <td>Add product recommendation blocks to the store's site. This will increase conversion and average purchase size</td>\n",
       "      <td>8</td>\n",
       "      <td>3</td>\n",
       "      <td>7</td>\n",
       "      <td>3</td>\n",
       "      <td>7.00</td>\n",
       "      <td>56.0</td>\n",
       "      <td>5</td>\n",
       "      <td>8</td>\n",
       "    </tr>\n",
       "    <tr>\n",
       "      <th>1</th>\n",
       "      <td>Launch your own delivery service. This will shorten delivery time</td>\n",
       "      <td>2</td>\n",
       "      <td>5</td>\n",
       "      <td>4</td>\n",
       "      <td>10</td>\n",
       "      <td>2.00</td>\n",
       "      <td>4.0</td>\n",
       "      <td>4</td>\n",
       "      <td>2</td>\n",
       "    </tr>\n",
       "    <tr>\n",
       "      <th>5</th>\n",
       "      <td>Add a customer review page. This will increase the number of orders</td>\n",
       "      <td>3</td>\n",
       "      <td>2</td>\n",
       "      <td>2</td>\n",
       "      <td>3</td>\n",
       "      <td>1.33</td>\n",
       "      <td>4.0</td>\n",
       "      <td>3</td>\n",
       "      <td>2</td>\n",
       "    </tr>\n",
       "    <tr>\n",
       "      <th>3</th>\n",
       "      <td>Change the category structure. This will increase conversion since users will find the products they want more quickly</td>\n",
       "      <td>8</td>\n",
       "      <td>3</td>\n",
       "      <td>3</td>\n",
       "      <td>8</td>\n",
       "      <td>1.12</td>\n",
       "      <td>9.0</td>\n",
       "      <td>2</td>\n",
       "      <td>4</td>\n",
       "    </tr>\n",
       "    <tr>\n",
       "      <th>4</th>\n",
       "      <td>Change the background color on the main page. This will increase user engagement</td>\n",
       "      <td>3</td>\n",
       "      <td>1</td>\n",
       "      <td>1</td>\n",
       "      <td>1</td>\n",
       "      <td>1.00</td>\n",
       "      <td>3.0</td>\n",
       "      <td>1</td>\n",
       "      <td>1</td>\n",
       "    </tr>\n",
       "  </tbody>\n",
       "</table>\n",
       "</div>"
      ],
      "text/plain": [
       "                                                                                                               hypothesis  \\\n",
       "8                                                        Launch a promotion that gives users discounts on their birthdays   \n",
       "0                                             Add two new channels for attracting traffic. This will bring 30% more users   \n",
       "7                                Add a subscription form to all the main pages. This will help you compile a mailing list   \n",
       "6                                 Show banners with current offers and sales on the main page. This will boost conversion   \n",
       "2          Add product recommendation blocks to the store's site. This will increase conversion and average purchase size   \n",
       "1                                                       Launch your own delivery service. This will shorten delivery time   \n",
       "5                                                     Add a customer review page. This will increase the number of orders   \n",
       "3  Change the category structure. This will increase conversion since users will find the products they want more quickly   \n",
       "4                                        Change the background color on the main page. This will increase user engagement   \n",
       "\n",
       "   reach  impact  confidence  effort    ice   rice  ice_rank  rice_rank  \n",
       "8      1       9           9       5  16.20   16.2         9          5  \n",
       "0      3      10           8       6  13.33   40.0         8          6  \n",
       "7     10       7           8       5  11.20  112.0         7          9  \n",
       "6      5       3           8       3   8.00   40.0         6          6  \n",
       "2      8       3           7       3   7.00   56.0         5          8  \n",
       "1      2       5           4      10   2.00    4.0         4          2  \n",
       "5      3       2           2       3   1.33    4.0         3          2  \n",
       "3      8       3           3       8   1.12    9.0         2          4  \n",
       "4      3       1           1       1   1.00    3.0         1          1  "
      ]
     },
     "execution_count": 22,
     "metadata": {},
     "output_type": "execute_result"
    }
   ],
   "source": [
    "\n",
    "hypos.sort_values(by=['ice'],ascending=False).round(2)"
   ]
  },
  {
   "cell_type": "markdown",
   "metadata": {},
   "source": [
    "\n",
    "\n"
   ]
  },
  {
   "cell_type": "markdown",
   "metadata": {},
   "source": [
    "Having ranked both ICE and RICE frameworks, we can conclude, that, overall, the Reach paramater greatly affects the distribution of hypotheses leaders. However, if we were to decide what hypothesis are to be tested last, we could easily come to an agreement, since the bottom half of the table varies eve so slightly.\n",
    "\n",
    "ICE top hypotheses are: 8,0,7\n",
    "RICE top hypotheses are: 6,0,7,2\n",
    "This being said, hypotheses \"Add two new channels for attracting traffic. This will bring 30% more users\" and \"Add a subscription form to all the main pages. This will help you compile a mailing list\" can be added to the shortlist for testing, followed by \"Add product recommendation blocks to the store's site. This will increase conversion and average purchase size\t\" (because it would reach a substantial number of users) and \"Show banners with current offers and sales on the main page. This will boost conversion\" (equally highly ranked on both framework scales)."
   ]
  },
  {
   "cell_type": "markdown",
   "metadata": {},
   "source": [
    "## A/B Test Analysis"
   ]
  },
  {
   "cell_type": "markdown",
   "metadata": {},
   "source": [
    "### Graph cumulative revenue by group."
   ]
  },
  {
   "cell_type": "markdown",
   "metadata": {},
   "source": [
    "Let's plot two graphs on cumulative revenue by group that differ only in approach: the first graph will be plotted using .cumsum() method and the second uaing lambda function and np.logical_and method along this aggregation."
   ]
  },
  {
   "cell_type": "code",
   "execution_count": 23,
   "metadata": {},
   "outputs": [],
   "source": [
    "control = orders_filtered.query('group == \"A\"').sort_values(by='date')\n",
    "control['revenue_cum'] = control['revenue'].cumsum()\n",
    "\n",
    "test = orders_filtered.query('group == \"B\"').sort_values(by='date')\n",
    "test['revenue_cum'] = test['revenue'].cumsum()"
   ]
  },
  {
   "cell_type": "code",
   "execution_count": 24,
   "metadata": {},
   "outputs": [
    {
     "data": {
      "text/plain": [
       "<Figure size 864x648 with 0 Axes>"
      ]
     },
     "metadata": {},
     "output_type": "display_data"
    },
    {
     "data": {
      "image/png": "[encoded data removed]",
      "text/plain": [
       "<Figure size 1280x800 with 1 Axes>"
      ]
     },
     "metadata": {
      "needs_background": "light"
     },
     "output_type": "display_data"
    }
   ],
   "source": [
    "plt.figure(figsize=(12,9))\n",
    "\n",
    "plt.figure(figsize=(16,10), dpi= 80)\n",
    "plt.plot(control['date'], control['revenue_cum'], color='tab:blue', label = 'A')\n",
    "plt.plot(test['date'], test['revenue_cum'], color='tab:orange', label = 'B')\n",
    "plt.legend()\n",
    "plt.title(\"A/B test cumulative revenue comparison\")\n",
    "plt.show()"
   ]
  },
  {
   "cell_type": "code",
   "execution_count": 25,
   "metadata": {},
   "outputs": [
    {
     "data": {
      "text/html": [
       "<div>\n",
       "<style scoped>\n",
       "    .dataframe tbody tr th:only-of-type {\n",
       "        vertical-align: middle;\n",
       "    }\n",
       "\n",
       "    .dataframe tbody tr th {\n",
       "        vertical-align: top;\n",
       "    }\n",
       "\n",
       "    .dataframe thead th {\n",
       "        text-align: right;\n",
       "    }\n",
       "</style>\n",
       "<table border=\"1\" class=\"dataframe\">\n",
       "  <thead>\n",
       "    <tr style=\"text-align: right;\">\n",
       "      <th></th>\n",
       "      <th>date</th>\n",
       "      <th>group</th>\n",
       "      <th>transactionid</th>\n",
       "      <th>visitorid</th>\n",
       "      <th>revenue</th>\n",
       "    </tr>\n",
       "  </thead>\n",
       "  <tbody>\n",
       "    <tr>\n",
       "      <th>55</th>\n",
       "      <td>2019-08-01</td>\n",
       "      <td>A</td>\n",
       "      <td>23</td>\n",
       "      <td>19</td>\n",
       "      <td>2266.6</td>\n",
       "    </tr>\n",
       "    <tr>\n",
       "      <th>66</th>\n",
       "      <td>2019-08-01</td>\n",
       "      <td>B</td>\n",
       "      <td>17</td>\n",
       "      <td>17</td>\n",
       "      <td>967.2</td>\n",
       "    </tr>\n",
       "    <tr>\n",
       "      <th>175</th>\n",
       "      <td>2019-08-02</td>\n",
       "      <td>A</td>\n",
       "      <td>42</td>\n",
       "      <td>36</td>\n",
       "      <td>3734.9</td>\n",
       "    </tr>\n",
       "    <tr>\n",
       "      <th>173</th>\n",
       "      <td>2019-08-02</td>\n",
       "      <td>B</td>\n",
       "      <td>40</td>\n",
       "      <td>39</td>\n",
       "      <td>3535.3</td>\n",
       "    </tr>\n",
       "    <tr>\n",
       "      <th>291</th>\n",
       "      <td>2019-08-03</td>\n",
       "      <td>A</td>\n",
       "      <td>66</td>\n",
       "      <td>60</td>\n",
       "      <td>5550.1</td>\n",
       "    </tr>\n",
       "  </tbody>\n",
       "</table>\n",
       "</div>"
      ],
      "text/plain": [
       "          date group  transactionid  visitorid  revenue\n",
       "55  2019-08-01     A             23         19   2266.6\n",
       "66  2019-08-01     B             17         17    967.2\n",
       "175 2019-08-02     A             42         36   3734.9\n",
       "173 2019-08-02     B             40         39   3535.3\n",
       "291 2019-08-03     A             66         60   5550.1"
      ]
     },
     "metadata": {},
     "output_type": "display_data"
    }
   ],
   "source": [
    "datesGroups = orders_filtered[['date', 'group']].drop_duplicates()\n",
    "\n",
    "orders_aggregated = datesGroups.apply(lambda x: orders_filtered[np.logical_and(orders_filtered['date'] <= x['date'], orders_filtered['group'] == x['group'])]\n",
    "                                     .agg({'date' : 'max', 'group' : 'max', 'transactionid' : pd.Series.nunique, 'visitorid' : pd.Series.nunique, 'revenue' : 'sum'}), axis=1).sort_values(by=['date','group'])\n",
    "\n",
    "display(orders_aggregated.head())"
   ]
  },
  {
   "cell_type": "code",
   "execution_count": 26,
   "metadata": {},
   "outputs": [
    {
     "data": {
      "image/png": "[encoded data removed]",
      "text/plain": [
       "<Figure size 864x648 with 1 Axes>"
      ]
     },
     "metadata": {
      "needs_background": "light"
     },
     "output_type": "display_data"
    }
   ],
   "source": [
    "cumulativeRevenueA = orders_aggregated[orders_aggregated['group']=='A'][['date','revenue', 'transactionid']]\n",
    "cumulativeRevenueB = orders_aggregated[orders_aggregated['group']=='B'][['date','revenue', 'transactionid']]\n",
    "plt.figure(figsize=(12,9))\n",
    "plt.plot(cumulativeRevenueA['date'], cumulativeRevenueA['revenue'], label =\"A\")\n",
    "plt.plot(cumulativeRevenueB['date'], cumulativeRevenueB['revenue'], label =\"B\")\n",
    "plt.legend()\n",
    "plt.title(\"A/B test cumulative revenue comparison\")\n",
    "plt.show()"
   ]
  },
  {
   "cell_type": "markdown",
   "metadata": {},
   "source": [
    "**Both graphs feature almost identical patterns.\n",
    "It can be observed, that Group B demonstrates consistently higher revenue across-the-board, with a sudden peak in late August that may be attributed to outliers. This will be investigated later.**"
   ]
  },
  {
   "cell_type": "markdown",
   "metadata": {},
   "source": [
    "### Graph cumulative average order size by group.\n"
   ]
  },
  {
   "cell_type": "code",
   "execution_count": 27,
   "metadata": {},
   "outputs": [],
   "source": [
    "orders_aggregated['avg_check']= orders_aggregated['revenue']/orders_aggregated['transactionid']"
   ]
  },
  {
   "cell_type": "code",
   "execution_count": 28,
   "metadata": {},
   "outputs": [
    {
     "data": {
      "image/png": "[encoded data removed]",
      "text/plain": [
       "<Figure size 864x648 with 1 Axes>"
      ]
     },
     "metadata": {
      "needs_background": "light"
     },
     "output_type": "display_data"
    }
   ],
   "source": [
    "plt.figure(figsize=(12,9))\n",
    "sns.lineplot(data=orders_aggregated, x = 'date', y = 'avg_check', hue='group')\n",
    "plt.legend()\n",
    "plt.title(\"A/B test average order size comparison\")\n",
    "plt.show()"
   ]
  },
  {
   "cell_type": "markdown",
   "metadata": {},
   "source": [
    "The situation is very similar here to the previous graph with cumulative revunue comparison. The peak in demand in group B can be seen at the exact same period in August. Overall, Group B seems to have a bigger average order size, but it is up for discussion until the outliers are inversigated."
   ]
  },
  {
   "cell_type": "markdown",
   "metadata": {},
   "source": [
    "### Graph the relative difference in cumulative average order size for group B compared with group A.\n"
   ]
  },
  {
   "cell_type": "code",
   "execution_count": 29,
   "metadata": {},
   "outputs": [
    {
     "data": {
      "image/png": "[encoded data removed]",
      "text/plain": [
       "<Figure size 864x648 with 1 Axes>"
      ]
     },
     "metadata": {
      "needs_background": "light"
     },
     "output_type": "display_data"
    }
   ],
   "source": [
    "cumulative_avg_checkA = orders_aggregated[orders_aggregated['group']=='A']\n",
    "cumulative_avg_checkB = orders_aggregated[orders_aggregated['group']=='B']\n",
    "cumulative_avg_check = cumulative_avg_checkA[['date','avg_check']].merge(cumulative_avg_checkB[['date','avg_check']], how='left', on='date', suffixes=['A','B'])\n",
    "\n",
    "cumulative_avg_check['difference'] = (cumulative_avg_check['avg_checkB']/cumulative_avg_check['avg_checkA'])-1\n",
    "\n",
    "plt.figure(figsize=(12,9))\n",
    "sns.lineplot(data=cumulative_avg_check, x = 'date', y = 'difference')\n",
    "plt.axhline(y=0, color='black')\n",
    "plt.grid(axis='y')\n",
    "plt.title(\"A/B test relative purchase size\")\n",
    "plt.show()\n"
   ]
  },
  {
   "cell_type": "markdown",
   "metadata": {},
   "source": [
    "This graph indicates once more the presence of sudden peaks in demand in first and second half of August that can be attributed to successful marketing campaigns or outliers. We should investigate the outliers to be safe."
   ]
  },
  {
   "cell_type": "markdown",
   "metadata": {},
   "source": [
    "### Calculate each group's conversion rate as the ratio of orders to the number of visits for each day. \n"
   ]
  },
  {
   "cell_type": "code",
   "execution_count": 30,
   "metadata": {},
   "outputs": [
    {
     "data": {
      "text/html": [
       "<div>\n",
       "<style scoped>\n",
       "    .dataframe tbody tr th:only-of-type {\n",
       "        vertical-align: middle;\n",
       "    }\n",
       "\n",
       "    .dataframe tbody tr th {\n",
       "        vertical-align: top;\n",
       "    }\n",
       "\n",
       "    .dataframe thead th {\n",
       "        text-align: right;\n",
       "    }\n",
       "</style>\n",
       "<table border=\"1\" class=\"dataframe\">\n",
       "  <thead>\n",
       "    <tr style=\"text-align: right;\">\n",
       "      <th></th>\n",
       "      <th>date</th>\n",
       "      <th>group</th>\n",
       "      <th>orders</th>\n",
       "      <th>visitors</th>\n",
       "      <th>revenue</th>\n",
       "      <th>avg_check</th>\n",
       "      <th>visits</th>\n",
       "      <th>conversion</th>\n",
       "    </tr>\n",
       "  </thead>\n",
       "  <tbody>\n",
       "    <tr>\n",
       "      <th>0</th>\n",
       "      <td>2019-08-01</td>\n",
       "      <td>A</td>\n",
       "      <td>23</td>\n",
       "      <td>19</td>\n",
       "      <td>2266.6</td>\n",
       "      <td>98.547826</td>\n",
       "      <td>719</td>\n",
       "      <td>0.031989</td>\n",
       "    </tr>\n",
       "    <tr>\n",
       "      <th>1</th>\n",
       "      <td>2019-08-01</td>\n",
       "      <td>B</td>\n",
       "      <td>17</td>\n",
       "      <td>17</td>\n",
       "      <td>967.2</td>\n",
       "      <td>56.894118</td>\n",
       "      <td>713</td>\n",
       "      <td>0.023843</td>\n",
       "    </tr>\n",
       "    <tr>\n",
       "      <th>2</th>\n",
       "      <td>2019-08-02</td>\n",
       "      <td>A</td>\n",
       "      <td>42</td>\n",
       "      <td>36</td>\n",
       "      <td>3734.9</td>\n",
       "      <td>88.926190</td>\n",
       "      <td>1338</td>\n",
       "      <td>0.031390</td>\n",
       "    </tr>\n",
       "    <tr>\n",
       "      <th>3</th>\n",
       "      <td>2019-08-02</td>\n",
       "      <td>B</td>\n",
       "      <td>40</td>\n",
       "      <td>39</td>\n",
       "      <td>3535.3</td>\n",
       "      <td>88.382500</td>\n",
       "      <td>1294</td>\n",
       "      <td>0.030912</td>\n",
       "    </tr>\n",
       "    <tr>\n",
       "      <th>4</th>\n",
       "      <td>2019-08-03</td>\n",
       "      <td>A</td>\n",
       "      <td>66</td>\n",
       "      <td>60</td>\n",
       "      <td>5550.1</td>\n",
       "      <td>84.092424</td>\n",
       "      <td>1845</td>\n",
       "      <td>0.035772</td>\n",
       "    </tr>\n",
       "  </tbody>\n",
       "</table>\n",
       "</div>"
      ],
      "text/plain": [
       "        date group  orders  visitors  revenue  avg_check  visits  conversion\n",
       "0 2019-08-01     A      23        19   2266.6  98.547826     719    0.031989\n",
       "1 2019-08-01     B      17        17    967.2  56.894118     713    0.023843\n",
       "2 2019-08-02     A      42        36   3734.9  88.926190    1338    0.031390\n",
       "3 2019-08-02     B      40        39   3535.3  88.382500    1294    0.030912\n",
       "4 2019-08-03     A      66        60   5550.1  84.092424    1845    0.035772"
      ]
     },
     "metadata": {},
     "output_type": "display_data"
    }
   ],
   "source": [
    "\n",
    "# Let's aggregate visit \n",
    "visits_aggregated = datesGroups.apply(lambda x: visits[np.logical_and(visits['date'] <= x['date'], visits['group'] == x['group'])]\n",
    "                                     .agg({'date' : 'max', 'group' : 'max', 'visits' : 'sum'}), axis=1).sort_values(by=['date','group'])\n",
    "\n",
    "cum_df = orders_aggregated.merge(visits_aggregated, left_on=['date','group'], right_on=['date','group'], how ='left')\n",
    "cum_df.columns = ['date','group','orders','visitors','revenue','avg_check','visits']\n",
    "cum_df['conversion'] = cum_df['orders']/cum_df['visits']\n",
    "display(cum_df.head())\n",
    "\n"
   ]
  },
  {
   "cell_type": "code",
   "execution_count": 31,
   "metadata": {},
   "outputs": [
    {
     "data": {
      "image/png": "[encoded data removed]",
      "text/plain": [
       "<Figure size 864x648 with 1 Axes>"
      ]
     },
     "metadata": {
      "needs_background": "light"
     },
     "output_type": "display_data"
    }
   ],
   "source": [
    "plt.figure(figsize=(12,9))\n",
    "sns.lineplot(data=cum_df, x = 'date', y = 'conversion', hue='group')\n",
    "plt.grid(axis='y')\n",
    "plt.title(\"A/B test cumulative conversion rate \")\n",
    "plt.show()"
   ]
  },
  {
   "cell_type": "markdown",
   "metadata": {},
   "source": [
    "According to the graph above, group B features consistently better results starting August the 9th."
   ]
  },
  {
   "cell_type": "markdown",
   "metadata": {},
   "source": [
    "### Plot a scatter chart of the number of orders per user.\n"
   ]
  },
  {
   "cell_type": "code",
   "execution_count": 32,
   "metadata": {},
   "outputs": [
    {
     "data": {
      "text/html": [
       "<div>\n",
       "<style scoped>\n",
       "    .dataframe tbody tr th:only-of-type {\n",
       "        vertical-align: middle;\n",
       "    }\n",
       "\n",
       "    .dataframe tbody tr th {\n",
       "        vertical-align: top;\n",
       "    }\n",
       "\n",
       "    .dataframe thead th {\n",
       "        text-align: right;\n",
       "    }\n",
       "</style>\n",
       "<table border=\"1\" class=\"dataframe\">\n",
       "  <thead>\n",
       "    <tr style=\"text-align: right;\">\n",
       "      <th></th>\n",
       "      <th>visitors</th>\n",
       "      <th>group</th>\n",
       "      <th>orders</th>\n",
       "    </tr>\n",
       "  </thead>\n",
       "  <tbody>\n",
       "    <tr>\n",
       "      <th>0</th>\n",
       "      <td>5114589</td>\n",
       "      <td>B</td>\n",
       "      <td>1</td>\n",
       "    </tr>\n",
       "    <tr>\n",
       "      <th>1</th>\n",
       "      <td>6958315</td>\n",
       "      <td>B</td>\n",
       "      <td>1</td>\n",
       "    </tr>\n",
       "    <tr>\n",
       "      <th>2</th>\n",
       "      <td>11685486</td>\n",
       "      <td>A</td>\n",
       "      <td>1</td>\n",
       "    </tr>\n",
       "    <tr>\n",
       "      <th>3</th>\n",
       "      <td>39475350</td>\n",
       "      <td>B</td>\n",
       "      <td>1</td>\n",
       "    </tr>\n",
       "    <tr>\n",
       "      <th>4</th>\n",
       "      <td>47206413</td>\n",
       "      <td>B</td>\n",
       "      <td>1</td>\n",
       "    </tr>\n",
       "    <tr>\n",
       "      <th>...</th>\n",
       "      <td>...</td>\n",
       "      <td>...</td>\n",
       "      <td>...</td>\n",
       "    </tr>\n",
       "    <tr>\n",
       "      <th>968</th>\n",
       "      <td>4259830713</td>\n",
       "      <td>A</td>\n",
       "      <td>1</td>\n",
       "    </tr>\n",
       "    <tr>\n",
       "      <th>969</th>\n",
       "      <td>4278982564</td>\n",
       "      <td>A</td>\n",
       "      <td>1</td>\n",
       "    </tr>\n",
       "    <tr>\n",
       "      <th>970</th>\n",
       "      <td>4279090005</td>\n",
       "      <td>B</td>\n",
       "      <td>1</td>\n",
       "    </tr>\n",
       "    <tr>\n",
       "      <th>971</th>\n",
       "      <td>4281247801</td>\n",
       "      <td>B</td>\n",
       "      <td>1</td>\n",
       "    </tr>\n",
       "    <tr>\n",
       "      <th>972</th>\n",
       "      <td>4283872382</td>\n",
       "      <td>B</td>\n",
       "      <td>1</td>\n",
       "    </tr>\n",
       "  </tbody>\n",
       "</table>\n",
       "<p>973 rows × 3 columns</p>\n",
       "</div>"
      ],
      "text/plain": [
       "       visitors group  orders\n",
       "0       5114589     B       1\n",
       "1       6958315     B       1\n",
       "2      11685486     A       1\n",
       "3      39475350     B       1\n",
       "4      47206413     B       1\n",
       "..          ...   ...     ...\n",
       "968  4259830713     A       1\n",
       "969  4278982564     A       1\n",
       "970  4279090005     B       1\n",
       "971  4281247801     B       1\n",
       "972  4283872382     B       1\n",
       "\n",
       "[973 rows x 3 columns]"
      ]
     },
     "execution_count": 32,
     "metadata": {},
     "output_type": "execute_result"
    }
   ],
   "source": [
    "\n",
    "ordersbyusers = orders_filtered.groupby(['visitorid','group']).agg({'transactionid':'nunique'}).reset_index()\n",
    "ordersbyusers.columns = ['visitors','group','orders']\n",
    "ordersbyusers\n"
   ]
  },
  {
   "cell_type": "code",
   "execution_count": 33,
   "metadata": {},
   "outputs": [
    {
     "data": {
      "image/png": "[encoded data removed]",
      "text/plain": [
       "<Figure size 864x648 with 1 Axes>"
      ]
     },
     "metadata": {
      "needs_background": "light"
     },
     "output_type": "display_data"
    }
   ],
   "source": [
    "plt.figure(figsize=(12,9))\n",
    "#Setting up x_values for scatter graph\n",
    "x_values = pd.Series(range(0, len(ordersbyusers)))\n",
    "sns.scatterplot(data=ordersbyusers, x = pd.Series(range(0, len(ordersbyusers))), y = 'orders', hue='group', style='group')\n",
    "plt.grid(axis='y')\n",
    "\n",
    "plt.title(\"A/B test orders per visitors \")\n",
    "plt.show()"
   ]
  },
  {
   "cell_type": "markdown",
   "metadata": {},
   "source": [
    "There are a few evident outliers in both groups that have 2 orders or above."
   ]
  },
  {
   "cell_type": "markdown",
   "metadata": {},
   "source": [
    "### Calculate the 95th and 99th percentiles for the number of orders per user. Define the point at which a data point becomes an anomaly.\n"
   ]
  },
  {
   "cell_type": "code",
   "execution_count": 34,
   "metadata": {},
   "outputs": [
    {
     "name": "stdout",
     "output_type": "stream",
     "text": [
      "Top 10% report 1.0 orders per user\n",
      "Top 5% report 1.0 orders per user\n",
      "Top 1% report 2.0 orders per user\n"
     ]
    }
   ],
   "source": [
    "\n",
    "print(f\"Top 10% report {np.percentile(ordersbyusers['orders'], 90)} orders per user\") \n",
    "print(f\"Top 5% report {np.percentile(ordersbyusers['orders'], 95)} orders per user\")\n",
    "print(f\"Top 1% report {np.percentile(ordersbyusers['orders'], 99)} orders per user\")"
   ]
  },
  {
   "cell_type": "markdown",
   "metadata": {},
   "source": [
    "It can be derived from the percentile analysis and the \"orders per visitors\" scatterplot, that those users that are estimated to have 2 or more orders can be done away with, because they are so few and far between. "
   ]
  },
  {
   "cell_type": "markdown",
   "metadata": {},
   "source": [
    "### Plot a scatter chart of order prices.\n"
   ]
  },
  {
   "cell_type": "code",
   "execution_count": 35,
   "metadata": {},
   "outputs": [
    {
     "data": {
      "image/png": "[encoded data removed]",
      "text/plain": [
       "<Figure size 864x648 with 1 Axes>"
      ]
     },
     "metadata": {
      "needs_background": "light"
     },
     "output_type": "display_data"
    }
   ],
   "source": [
    "plt.figure(figsize=(12,9))\n",
    "\n",
    "sns.scatterplot(data=orders_filtered, x = 'date', y = 'revenue', hue='group', style='group')\n",
    "plt.grid(axis='y')\n",
    "\n",
    "plt.title(\"A/B test order prices\")\n",
    "plt.show()"
   ]
  },
  {
   "cell_type": "markdown",
   "metadata": {},
   "source": [
    "There is one big order in Group B at 20000 mark and another one at approx. 2600-2700. Let's find out what 90,95,99 percentiles are to get a better understanding about outliers."
   ]
  },
  {
   "cell_type": "markdown",
   "metadata": {},
   "source": [
    "### Calculate the 95th and 99th percentiles of order prices. Define the point at which a data point becomes an anomaly.\n"
   ]
  },
  {
   "cell_type": "code",
   "execution_count": 36,
   "metadata": {},
   "outputs": [
    {
     "name": "stdout",
     "output_type": "stream",
     "text": [
      "Top 10% of orders are reported to be equal to 280.8\n",
      "Top 5% of orders are reported to be equal to 414.275\n",
      "Top 1% of orders are reported to be equal to 830.3\n"
     ]
    }
   ],
   "source": [
    "print(f\"Top 10% of orders are reported to be equal to {np.percentile(orders_filtered['revenue'], 90)}\") \n",
    "print(f\"Top 5% of orders are reported to be equal to {np.percentile(orders_filtered['revenue'], 95)}\")\n",
    "print(f\"Top 1% of orders are reported to be equal to {np.percentile(orders_filtered['revenue'], 99)}\")"
   ]
  },
  {
   "cell_type": "markdown",
   "metadata": {},
   "source": [
    "**98% of all data is below 800. Therefore, all the values above 800 in revenue can be regarded as outliers.**"
   ]
  },
  {
   "cell_type": "markdown",
   "metadata": {},
   "source": [
    "###  Find Statistical significance of the difference in conversion between the groups using the raw data.\n"
   ]
  },
  {
   "cell_type": "markdown",
   "metadata": {},
   "source": [
    "Let's calculate the statistical significance of the difference in conversion between the groups.\n",
    "\n",
    "To do that,Mann-Whitney test is required. It consists of the following steps:\n",
    "\n",
    "1. Split dataset with orders by users into two groups A and B\n",
    "2. Create SampleA and SampleB, containing both users who made a puchase and those who didn't\n",
    "3. Compare the two samples using stats.mannwhitneyu.\n",
    "\n",
    "\n"
   ]
  },
  {
   "cell_type": "markdown",
   "metadata": {},
   "source": [
    "Conversion Hypotheses:\n",
    "\n",
    "H0: Difference in conversion for groups A and B is statistically insignificant.\n",
    "\n",
    "H1: Difference in conversion for groups A and B is statistically significant.\n",
    "\n"
   ]
  },
  {
   "cell_type": "code",
   "execution_count": 37,
   "metadata": {},
   "outputs": [],
   "source": [
    "\n",
    "ordersbyusersA = ordersbyusers.query('group ==\"A\"')\n",
    "\n",
    "ordersbyusersB = ordersbyusers.query('group ==\"B\"')\n",
    "\n",
    "\n"
   ]
  },
  {
   "cell_type": "code",
   "execution_count": 38,
   "metadata": {},
   "outputs": [],
   "source": [
    "\n",
    "sampleA = pd.concat([\n",
    "    ordersbyusersA['orders'], pd.Series(\n",
    "        0,index=np.arange(ordersbyusers['visitors'].nunique()-len(ordersbyusersA['orders']))\n",
    "        ,name='orders')],axis=0)\n",
    "\n",
    "sampleB = pd.concat([\n",
    "    ordersbyusersB['orders'], pd.Series(\n",
    "        0,index=np.arange(ordersbyusers['visitors'].nunique()-len(ordersbyusersB['orders']))\n",
    "        ,name='orders')],axis=0)\n",
    "\n",
    "\n"
   ]
  },
  {
   "cell_type": "code",
   "execution_count": 39,
   "metadata": {},
   "outputs": [
    {
     "name": "stdout",
     "output_type": "stream",
     "text": [
      "Reject the null hypothesis: the two samples are in fact different in conversion.\n",
      "          p_value is: 0.00025   \n",
      "          Relative mean conversion Group B/A is 17.1%.\n"
     ]
    }
   ],
   "source": [
    "alpha = 0.05\n",
    "p_value = stats.mannwhitneyu(sampleA, sampleB)[1]\n",
    "if p_value<alpha:\n",
    "    print(f'''Reject the null hypothesis: the two samples are in fact different in conversion.\n",
    "          p_value is: {p_value:.5f}   \n",
    "          Relative mean conversion Group B/A is {(sampleB.mean()/sampleA.mean()-1):.1%}.''')\n",
    "else:\n",
    "    print(f'''Cannot reject the null hypothesis, since statistical difference in conversion between the two samples is not confirmed.)\n",
    "          p_value is: {p_value:.5f} \n",
    "          Relative mean conversion Group B/A is {(sampleB.mean()/sampleA.mean()-1):.1%}.''')\n"
   ]
  },
  {
   "cell_type": "markdown",
   "metadata": {},
   "source": [
    "### Find the statistical significance of the difference in average order size between the groups using raw data\n"
   ]
  },
  {
   "cell_type": "markdown",
   "metadata": {},
   "source": [
    "**With statistical difference in conversion between the sets out of the way we can begin analyzing statistical difference in average order size.**"
   ]
  },
  {
   "cell_type": "markdown",
   "metadata": {},
   "source": [
    "Average order size Hypotheses:\n",
    "\n",
    "H0: The two groups A and B have statistically insignificant difference in average order sizes.\n",
    "\n",
    "H1: There is statistically significant difference between the two groups A and B in average order sizes. \n"
   ]
  },
  {
   "cell_type": "code",
   "execution_count": 40,
   "metadata": {},
   "outputs": [
    {
     "name": "stdout",
     "output_type": "stream",
     "text": [
      "Cannot reject the null hypothesis, because we can not confirm that there is statistical difference in average order size for groups A and B.\n",
      "p_value is: 0.86223\n",
      "Relative difference in SampleB/SampleA average order size: 25.165%\n"
     ]
    },
    {
     "name": "stderr",
     "output_type": "stream",
     "text": [
      "/tmp/ipykernel_27/2120243491.py:3: UserWarning: Boolean Series key will be reindexed to match DataFrame index.\n",
      "  sample_a = orders_filtered[orders['group']=='A']['revenue']\n",
      "/tmp/ipykernel_27/2120243491.py:4: UserWarning: Boolean Series key will be reindexed to match DataFrame index.\n",
      "  sample_b = orders_filtered[orders['group']=='B']['revenue']\n"
     ]
    }
   ],
   "source": [
    "#comparing sample A and sample B by average order size\n",
    "\n",
    "sample_a = orders_filtered[orders['group']=='A']['revenue']\n",
    "sample_b = orders_filtered[orders['group']=='B']['revenue']\n",
    "alpha = 0.05\n",
    "p_value = stats.mannwhitneyu(sample_a,sample_b)[1]\n",
    "if p_value<alpha:\n",
    "    print(\"Reject the null hypothesis: The two groups A and B have statistically insignificant difference in average order sizes..\")\n",
    "else:\n",
    "    print(\"Cannot reject the null hypothesis, because we can not confirm that there is statistical difference in average order size for groups A and B.\")\n",
    "print(f\"p_value is: {p_value:.5f}\")\n",
    "\n",
    "#Let's also find the relative difference in average order size between the samples:\n",
    "print(f\"Relative difference in SampleB/SampleA average order size: {orders[orders['group']=='B']['revenue'].mean()/orders[orders['group']=='A']['revenue'].mean()-1:.3%}\")\n",
    "\n"
   ]
  },
  {
   "cell_type": "markdown",
   "metadata": {},
   "source": [
    "The p-value is considerably higher than 0.05, so there's no reason to reject the null hypothesis and conclude that average order size differs between the groups. Nonetheless, the average order size for group B is much bigger than it is for group A."
   ]
  },
  {
   "cell_type": "markdown",
   "metadata": {},
   "source": [
    "### Find the statistical significance of the difference in conversion between the groups using the filtered data."
   ]
  },
  {
   "cell_type": "markdown",
   "metadata": {},
   "source": [
    "Let's first find the abnormal data and then filter original datasets from it."
   ]
  },
  {
   "cell_type": "code",
   "execution_count": 84,
   "metadata": {},
   "outputs": [
    {
     "name": "stdout",
     "output_type": "stream",
     "text": [
      "There are 22 outliers in our test. \n",
      "It is 2.3% of our data\n"
     ]
    }
   ],
   "source": [
    "#Setting up thresholds\n",
    "orders_max = 2\n",
    "rev_max = 800\n",
    "\n",
    "#Filtering users with abnormal number of orders for A and B groups\n",
    "users_many_orders = (pd.concat([ordersbyusersA.query('orders > @orders_max')['visitors'],\n",
    "                     ordersbyusersB.query('orders > @orders_max')['visitors']],axis=0)\n",
    "                    )\n",
    "#Filtering users with abnormal amount of revenue for A and B groups\n",
    "users_big_orders = orders_filtered.query('revenue> @rev_max')['visitorid']\n",
    "\n",
    "#Merging the tables\n",
    "abnormalusers = pd.concat([users_many_orders, users_big_orders], axis=0).drop_duplicates()\n",
    "\n",
    "#Check the result\n",
    "print(f'''There are {outliers.shape[0]} outliers in our test. \n",
    "It is {outliers.shape[0]/orders_filtered.visitorid.nunique():.1%} of our data''')"
   ]
  },
  {
   "cell_type": "code",
   "execution_count": 85,
   "metadata": {},
   "outputs": [
    {
     "name": "stdout",
     "output_type": "stream",
     "text": [
      " We have 22 outliers., that constitute 2.3% of the total number of users\n"
     ]
    }
   ],
   "source": [
    "print(f\" We have {abnormalusers.shape[0]} outliers., that constitute {abnormalusers.shape[0]/ordersbyusers.visitors.nunique():.1%} of the total number of users\")\n"
   ]
  },
  {
   "cell_type": "markdown",
   "metadata": {},
   "source": [
    "**Let's now create two filtered samples and perform a test on conversion**"
   ]
  },
  {
   "cell_type": "code",
   "execution_count": 87,
   "metadata": {},
   "outputs": [
    {
     "name": "stdout",
     "output_type": "stream",
     "text": [
      "\n",
      "    Filtered groups A and B are statistically different in conversion. p-value is: 0.006 \n",
      "    Relative mean conversion Group B/A is 19.8%.\n",
      "    We reject the null hypothesis.\n"
     ]
    }
   ],
   "source": [
    "\n",
    "sampleAFiltered = pd.concat(\n",
    "    [ordersbyusersA[np.logical_not(ordersbyusersA['visitors'].isin(abnormalusers))]['orders'],\n",
    "     pd.Series(0, index=np.arange(visits[visits['group']=='A']['visits'].sum() - len(ordersbyusersA['orders'])),name='orders')],axis=0)\n",
    "\n",
    "sampleBFiltered = pd.concat(\n",
    "    [ordersbyusersB[np.logical_not(ordersbyusersB['visitors'].isin(abnormalusers))]['orders'],\n",
    "     pd.Series(0, index=np.arange(visits[visits['group']=='B']['visits'].sum() - len(ordersbyusersB['orders'])),name='orders')],axis=0)\n",
    "\n",
    "#Performing a statistical test to find out, whether there is statistical difference \n",
    "alpha=0.05\n",
    "results = stats.mannwhitneyu(sampleAFiltered, sampleBFiltered)\n",
    "if results.pvalue <alpha:\n",
    "    print(f'''\n",
    "    Filtered groups A and B are statistically different in conversion. p-value is: {results.pvalue:.3f} \n",
    "    Relative mean conversion Group B/A is {(sampleBFiltered.mean()/sampleAFiltered.mean()-1):.1%}.\n",
    "    We reject the null hypothesis.''')\n",
    "else:\n",
    "    print(f'''\n",
    "    We cannot state that there is a statistical difference of conversion for filtered groups A and B. p-value is: {results.pvalue:.3f}.\n",
    "    Relative mean conversion Group B/A is {(sampleBFiltered.mean()/sampleAFiltered.mean()-1):.1%}. \n",
    "    We cannot reject the null hypothesis.''')\n",
    "    \n",
    "    \n",
    "\n",
    "\n",
    "\n"
   ]
  },
  {
   "cell_type": "markdown",
   "metadata": {},
   "source": [
    "**Let's visualize our findings by plotting linegraphs, featuring cumulative revenue, cumulative conversion rate.**"
   ]
  },
  {
   "cell_type": "code",
   "execution_count": 65,
   "metadata": {},
   "outputs": [
    {
     "data": {
      "text/html": [
       "<div>\n",
       "<style scoped>\n",
       "    .dataframe tbody tr th:only-of-type {\n",
       "        vertical-align: middle;\n",
       "    }\n",
       "\n",
       "    .dataframe tbody tr th {\n",
       "        vertical-align: top;\n",
       "    }\n",
       "\n",
       "    .dataframe thead th {\n",
       "        text-align: right;\n",
       "    }\n",
       "</style>\n",
       "<table border=\"1\" class=\"dataframe\">\n",
       "  <thead>\n",
       "    <tr style=\"text-align: right;\">\n",
       "      <th></th>\n",
       "      <th>visitors</th>\n",
       "      <th>group</th>\n",
       "      <th>orders</th>\n",
       "    </tr>\n",
       "  </thead>\n",
       "  <tbody>\n",
       "    <tr>\n",
       "      <th>0</th>\n",
       "      <td>5114589</td>\n",
       "      <td>B</td>\n",
       "      <td>1</td>\n",
       "    </tr>\n",
       "    <tr>\n",
       "      <th>1</th>\n",
       "      <td>6958315</td>\n",
       "      <td>B</td>\n",
       "      <td>1</td>\n",
       "    </tr>\n",
       "    <tr>\n",
       "      <th>3</th>\n",
       "      <td>39475350</td>\n",
       "      <td>B</td>\n",
       "      <td>1</td>\n",
       "    </tr>\n",
       "    <tr>\n",
       "      <th>4</th>\n",
       "      <td>47206413</td>\n",
       "      <td>B</td>\n",
       "      <td>1</td>\n",
       "    </tr>\n",
       "    <tr>\n",
       "      <th>5</th>\n",
       "      <td>48147722</td>\n",
       "      <td>B</td>\n",
       "      <td>1</td>\n",
       "    </tr>\n",
       "    <tr>\n",
       "      <th>...</th>\n",
       "      <td>...</td>\n",
       "      <td>...</td>\n",
       "      <td>...</td>\n",
       "    </tr>\n",
       "    <tr>\n",
       "      <th>966</th>\n",
       "      <td>4251115836</td>\n",
       "      <td>B</td>\n",
       "      <td>1</td>\n",
       "    </tr>\n",
       "    <tr>\n",
       "      <th>967</th>\n",
       "      <td>4258103007</td>\n",
       "      <td>B</td>\n",
       "      <td>1</td>\n",
       "    </tr>\n",
       "    <tr>\n",
       "      <th>970</th>\n",
       "      <td>4279090005</td>\n",
       "      <td>B</td>\n",
       "      <td>1</td>\n",
       "    </tr>\n",
       "    <tr>\n",
       "      <th>971</th>\n",
       "      <td>4281247801</td>\n",
       "      <td>B</td>\n",
       "      <td>1</td>\n",
       "    </tr>\n",
       "    <tr>\n",
       "      <th>972</th>\n",
       "      <td>4283872382</td>\n",
       "      <td>B</td>\n",
       "      <td>1</td>\n",
       "    </tr>\n",
       "  </tbody>\n",
       "</table>\n",
       "<p>528 rows × 3 columns</p>\n",
       "</div>"
      ],
      "text/plain": [
       "       visitors group  orders\n",
       "0       5114589     B       1\n",
       "1       6958315     B       1\n",
       "3      39475350     B       1\n",
       "4      47206413     B       1\n",
       "5      48147722     B       1\n",
       "..          ...   ...     ...\n",
       "966  4251115836     B       1\n",
       "967  4258103007     B       1\n",
       "970  4279090005     B       1\n",
       "971  4281247801     B       1\n",
       "972  4283872382     B       1\n",
       "\n",
       "[528 rows x 3 columns]"
      ]
     },
     "execution_count": 65,
     "metadata": {},
     "output_type": "execute_result"
    }
   ],
   "source": [
    "ordersbyusersB"
   ]
  },
  {
   "cell_type": "code",
   "execution_count": 94,
   "metadata": {},
   "outputs": [
    {
     "data": {
      "text/html": [
       "<div>\n",
       "<style scoped>\n",
       "    .dataframe tbody tr th:only-of-type {\n",
       "        vertical-align: middle;\n",
       "    }\n",
       "\n",
       "    .dataframe tbody tr th {\n",
       "        vertical-align: top;\n",
       "    }\n",
       "\n",
       "    .dataframe thead th {\n",
       "        text-align: right;\n",
       "    }\n",
       "</style>\n",
       "<table border=\"1\" class=\"dataframe\">\n",
       "  <thead>\n",
       "    <tr style=\"text-align: right;\">\n",
       "      <th></th>\n",
       "      <th>transactionid</th>\n",
       "      <th>visitorid</th>\n",
       "      <th>date</th>\n",
       "      <th>revenue</th>\n",
       "      <th>group</th>\n",
       "    </tr>\n",
       "  </thead>\n",
       "  <tbody>\n",
       "    <tr>\n",
       "      <th>0</th>\n",
       "      <td>3667963787</td>\n",
       "      <td>3312258926</td>\n",
       "      <td>2019-08-15</td>\n",
       "      <td>30.4</td>\n",
       "      <td>B</td>\n",
       "    </tr>\n",
       "    <tr>\n",
       "      <th>1</th>\n",
       "      <td>2804400009</td>\n",
       "      <td>3642806036</td>\n",
       "      <td>2019-08-15</td>\n",
       "      <td>15.2</td>\n",
       "      <td>B</td>\n",
       "    </tr>\n",
       "    <tr>\n",
       "      <th>3</th>\n",
       "      <td>3797467345</td>\n",
       "      <td>1196621759</td>\n",
       "      <td>2019-08-15</td>\n",
       "      <td>155.1</td>\n",
       "      <td>B</td>\n",
       "    </tr>\n",
       "    <tr>\n",
       "      <th>4</th>\n",
       "      <td>2282983706</td>\n",
       "      <td>2322279887</td>\n",
       "      <td>2019-08-15</td>\n",
       "      <td>40.5</td>\n",
       "      <td>B</td>\n",
       "    </tr>\n",
       "    <tr>\n",
       "      <th>5</th>\n",
       "      <td>182168103</td>\n",
       "      <td>935554773</td>\n",
       "      <td>2019-08-15</td>\n",
       "      <td>35.0</td>\n",
       "      <td>B</td>\n",
       "    </tr>\n",
       "    <tr>\n",
       "      <th>...</th>\n",
       "      <td>...</td>\n",
       "      <td>...</td>\n",
       "      <td>...</td>\n",
       "      <td>...</td>\n",
       "      <td>...</td>\n",
       "    </tr>\n",
       "    <tr>\n",
       "      <th>1191</th>\n",
       "      <td>3592955527</td>\n",
       "      <td>608641596</td>\n",
       "      <td>2019-08-14</td>\n",
       "      <td>255.7</td>\n",
       "      <td>B</td>\n",
       "    </tr>\n",
       "    <tr>\n",
       "      <th>1192</th>\n",
       "      <td>2662137336</td>\n",
       "      <td>3733762160</td>\n",
       "      <td>2019-08-14</td>\n",
       "      <td>100.8</td>\n",
       "      <td>B</td>\n",
       "    </tr>\n",
       "    <tr>\n",
       "      <th>1193</th>\n",
       "      <td>2203539145</td>\n",
       "      <td>370388673</td>\n",
       "      <td>2019-08-14</td>\n",
       "      <td>50.1</td>\n",
       "      <td>A</td>\n",
       "    </tr>\n",
       "    <tr>\n",
       "      <th>1194</th>\n",
       "      <td>1807773912</td>\n",
       "      <td>573423106</td>\n",
       "      <td>2019-08-14</td>\n",
       "      <td>165.3</td>\n",
       "      <td>A</td>\n",
       "    </tr>\n",
       "    <tr>\n",
       "      <th>1196</th>\n",
       "      <td>3936777065</td>\n",
       "      <td>2108080724</td>\n",
       "      <td>2019-08-15</td>\n",
       "      <td>3120.1</td>\n",
       "      <td>B</td>\n",
       "    </tr>\n",
       "  </tbody>\n",
       "</table>\n",
       "<p>1016 rows × 5 columns</p>\n",
       "</div>"
      ],
      "text/plain": [
       "      transactionid   visitorid       date  revenue group\n",
       "0        3667963787  3312258926 2019-08-15     30.4     B\n",
       "1        2804400009  3642806036 2019-08-15     15.2     B\n",
       "3        3797467345  1196621759 2019-08-15    155.1     B\n",
       "4        2282983706  2322279887 2019-08-15     40.5     B\n",
       "5         182168103   935554773 2019-08-15     35.0     B\n",
       "...             ...         ...        ...      ...   ...\n",
       "1191     3592955527   608641596 2019-08-14    255.7     B\n",
       "1192     2662137336  3733762160 2019-08-14    100.8     B\n",
       "1193     2203539145   370388673 2019-08-14     50.1     A\n",
       "1194     1807773912   573423106 2019-08-14    165.3     A\n",
       "1196     3936777065  2108080724 2019-08-15   3120.1     B\n",
       "\n",
       "[1016 rows x 5 columns]"
      ]
     },
     "execution_count": 94,
     "metadata": {},
     "output_type": "execute_result"
    }
   ],
   "source": [
    "orders_filtered"
   ]
  },
  {
   "cell_type": "code",
   "execution_count": 88,
   "metadata": {},
   "outputs": [
    {
     "name": "stdout",
     "output_type": "stream",
     "text": [
      "0         5114589\n",
      "1         6958315\n",
      "3        39475350\n",
      "4        47206413\n",
      "5        48147722\n",
      "          ...    \n",
      "960    4227830084\n",
      "963    4237561104\n",
      "964    4243832526\n",
      "968    4259830713\n",
      "969    4278982564\n",
      "Name: visitors, Length: 951, dtype: int64\n"
     ]
    }
   ],
   "source": [
    "\n",
    "\n",
    "# Select orders from ordersbyusersB and ordersbyusersA without abnormal users\n",
    "ordersB = ordersbyusersB[np.logical_not(ordersbyusersB['visitors'].isin(abnormalusers))]['visitors']\n",
    "ordersA = ordersbyusersA[np.logical_not(ordersbyusersA['visitors'].isin(abnormalusers))]['visitors']\n",
    "\n",
    "# Concatenate the two DataFrames\n",
    "concatenated_orders = pd.concat([ordersB, ordersA])\n",
    "\n",
    "# Print the concatenated DataFrame\n",
    "print(concatenated_orders)\n"
   ]
  },
  {
   "cell_type": "code",
   "execution_count": 97,
   "metadata": {},
   "outputs": [
    {
     "name": "stdout",
     "output_type": "stream",
     "text": [
      "<class 'pandas.core.frame.DataFrame'>\n",
      "Int64Index: 979 entries, 0 to 1194\n",
      "Data columns (total 5 columns):\n",
      " #   Column         Non-Null Count  Dtype         \n",
      "---  ------         --------------  -----         \n",
      " 0   transactionid  979 non-null    int64         \n",
      " 1   visitorid      979 non-null    int64         \n",
      " 2   date           979 non-null    datetime64[ns]\n",
      " 3   revenue        979 non-null    float64       \n",
      " 4   group          979 non-null    object        \n",
      "dtypes: datetime64[ns](1), float64(1), int64(2), object(1)\n",
      "memory usage: 45.9+ KB\n"
     ]
    },
    {
     "data": {
      "text/plain": [
       "None"
      ]
     },
     "metadata": {},
     "output_type": "display_data"
    }
   ],
   "source": [
    "#Filtering the orders_aggregated table of outliers\n",
    "\n",
    "orders_aggregated_filtered =  orders_filtered.query('visitorid in @concatenated_orders')\n",
    "\n",
    "display(orders_aggregated_filtered.info())"
   ]
  },
  {
   "cell_type": "code",
   "execution_count": 99,
   "metadata": {},
   "outputs": [
    {
     "data": {
      "text/html": [
       "<div>\n",
       "<style scoped>\n",
       "    .dataframe tbody tr th:only-of-type {\n",
       "        vertical-align: middle;\n",
       "    }\n",
       "\n",
       "    .dataframe tbody tr th {\n",
       "        vertical-align: top;\n",
       "    }\n",
       "\n",
       "    .dataframe thead th {\n",
       "        text-align: right;\n",
       "    }\n",
       "</style>\n",
       "<table border=\"1\" class=\"dataframe\">\n",
       "  <thead>\n",
       "    <tr style=\"text-align: right;\">\n",
       "      <th></th>\n",
       "      <th>date</th>\n",
       "      <th>group</th>\n",
       "      <th>transactionid</th>\n",
       "      <th>visitorid</th>\n",
       "      <th>revenue</th>\n",
       "    </tr>\n",
       "  </thead>\n",
       "  <tbody>\n",
       "    <tr>\n",
       "      <th>55</th>\n",
       "      <td>2019-08-01</td>\n",
       "      <td>A</td>\n",
       "      <td>18</td>\n",
       "      <td>17</td>\n",
       "      <td>1779.3</td>\n",
       "    </tr>\n",
       "    <tr>\n",
       "      <th>66</th>\n",
       "      <td>2019-08-01</td>\n",
       "      <td>B</td>\n",
       "      <td>17</td>\n",
       "      <td>17</td>\n",
       "      <td>967.2</td>\n",
       "    </tr>\n",
       "    <tr>\n",
       "      <th>175</th>\n",
       "      <td>2019-08-02</td>\n",
       "      <td>A</td>\n",
       "      <td>36</td>\n",
       "      <td>34</td>\n",
       "      <td>3217.6</td>\n",
       "    </tr>\n",
       "    <tr>\n",
       "      <th>173</th>\n",
       "      <td>2019-08-02</td>\n",
       "      <td>B</td>\n",
       "      <td>40</td>\n",
       "      <td>39</td>\n",
       "      <td>3535.3</td>\n",
       "    </tr>\n",
       "    <tr>\n",
       "      <th>291</th>\n",
       "      <td>2019-08-03</td>\n",
       "      <td>A</td>\n",
       "      <td>60</td>\n",
       "      <td>58</td>\n",
       "      <td>5032.8</td>\n",
       "    </tr>\n",
       "    <tr>\n",
       "      <th>...</th>\n",
       "      <td>...</td>\n",
       "      <td>...</td>\n",
       "      <td>...</td>\n",
       "      <td>...</td>\n",
       "      <td>...</td>\n",
       "    </tr>\n",
       "    <tr>\n",
       "      <th>533</th>\n",
       "      <td>2019-08-29</td>\n",
       "      <td>B</td>\n",
       "      <td>498</td>\n",
       "      <td>482</td>\n",
       "      <td>46871.8</td>\n",
       "    </tr>\n",
       "    <tr>\n",
       "      <th>757</th>\n",
       "      <td>2019-08-30</td>\n",
       "      <td>A</td>\n",
       "      <td>435</td>\n",
       "      <td>423</td>\n",
       "      <td>41657.2</td>\n",
       "    </tr>\n",
       "    <tr>\n",
       "      <th>690</th>\n",
       "      <td>2019-08-30</td>\n",
       "      <td>B</td>\n",
       "      <td>519</td>\n",
       "      <td>503</td>\n",
       "      <td>50158.6</td>\n",
       "    </tr>\n",
       "    <tr>\n",
       "      <th>958</th>\n",
       "      <td>2019-08-31</td>\n",
       "      <td>A</td>\n",
       "      <td>443</td>\n",
       "      <td>431</td>\n",
       "      <td>42505.5</td>\n",
       "    </tr>\n",
       "    <tr>\n",
       "      <th>930</th>\n",
       "      <td>2019-08-31</td>\n",
       "      <td>B</td>\n",
       "      <td>536</td>\n",
       "      <td>520</td>\n",
       "      <td>51946.3</td>\n",
       "    </tr>\n",
       "  </tbody>\n",
       "</table>\n",
       "<p>62 rows × 5 columns</p>\n",
       "</div>"
      ],
      "text/plain": [
       "          date group  transactionid  visitorid  revenue\n",
       "55  2019-08-01     A             18         17   1779.3\n",
       "66  2019-08-01     B             17         17    967.2\n",
       "175 2019-08-02     A             36         34   3217.6\n",
       "173 2019-08-02     B             40         39   3535.3\n",
       "291 2019-08-03     A             60         58   5032.8\n",
       "..         ...   ...            ...        ...      ...\n",
       "533 2019-08-29     B            498        482  46871.8\n",
       "757 2019-08-30     A            435        423  41657.2\n",
       "690 2019-08-30     B            519        503  50158.6\n",
       "958 2019-08-31     A            443        431  42505.5\n",
       "930 2019-08-31     B            536        520  51946.3\n",
       "\n",
       "[62 rows x 5 columns]"
      ]
     },
     "execution_count": 99,
     "metadata": {},
     "output_type": "execute_result"
    }
   ],
   "source": [
    "#Aggregating revenue and counting unique users and orders in orders filtered table\n",
    "orders_agg_normalusers = datesGroups.apply(lambda x: orders_aggregated_filtered[np.logical_and(orders_aggregated_filtered['date'] <= x['date'], orders_aggregated_filtered['group'] == x['group'])]\n",
    "                                         .agg({'date' : 'max', 'group' : 'max', 'transactionid' : 'nunique', 'visitorid' : 'nunique','revenue' : 'sum'}), axis=1).sort_values(by=['date','group'])\n",
    "\n",
    "\n",
    "orders_agg_normalusers\n",
    "\n"
   ]
  },
  {
   "cell_type": "code",
   "execution_count": 103,
   "metadata": {},
   "outputs": [
    {
     "data": {
      "text/html": [
       "<div>\n",
       "<style scoped>\n",
       "    .dataframe tbody tr th:only-of-type {\n",
       "        vertical-align: middle;\n",
       "    }\n",
       "\n",
       "    .dataframe tbody tr th {\n",
       "        vertical-align: top;\n",
       "    }\n",
       "\n",
       "    .dataframe thead th {\n",
       "        text-align: right;\n",
       "    }\n",
       "</style>\n",
       "<table border=\"1\" class=\"dataframe\">\n",
       "  <thead>\n",
       "    <tr style=\"text-align: right;\">\n",
       "      <th></th>\n",
       "      <th>date</th>\n",
       "      <th>group</th>\n",
       "      <th>orders</th>\n",
       "      <th>visitors</th>\n",
       "      <th>revenue</th>\n",
       "      <th>visits</th>\n",
       "    </tr>\n",
       "  </thead>\n",
       "  <tbody>\n",
       "    <tr>\n",
       "      <th>0</th>\n",
       "      <td>2019-08-01</td>\n",
       "      <td>A</td>\n",
       "      <td>18</td>\n",
       "      <td>17</td>\n",
       "      <td>1779.3</td>\n",
       "      <td>719</td>\n",
       "    </tr>\n",
       "    <tr>\n",
       "      <th>1</th>\n",
       "      <td>2019-08-01</td>\n",
       "      <td>B</td>\n",
       "      <td>17</td>\n",
       "      <td>17</td>\n",
       "      <td>967.2</td>\n",
       "      <td>713</td>\n",
       "    </tr>\n",
       "    <tr>\n",
       "      <th>2</th>\n",
       "      <td>2019-08-02</td>\n",
       "      <td>A</td>\n",
       "      <td>36</td>\n",
       "      <td>34</td>\n",
       "      <td>3217.6</td>\n",
       "      <td>1338</td>\n",
       "    </tr>\n",
       "    <tr>\n",
       "      <th>3</th>\n",
       "      <td>2019-08-02</td>\n",
       "      <td>B</td>\n",
       "      <td>40</td>\n",
       "      <td>39</td>\n",
       "      <td>3535.3</td>\n",
       "      <td>1294</td>\n",
       "    </tr>\n",
       "    <tr>\n",
       "      <th>4</th>\n",
       "      <td>2019-08-03</td>\n",
       "      <td>A</td>\n",
       "      <td>60</td>\n",
       "      <td>58</td>\n",
       "      <td>5032.8</td>\n",
       "      <td>1845</td>\n",
       "    </tr>\n",
       "  </tbody>\n",
       "</table>\n",
       "</div>"
      ],
      "text/plain": [
       "        date group  orders  visitors  revenue  visits\n",
       "0 2019-08-01     A      18        17   1779.3     719\n",
       "1 2019-08-01     B      17        17    967.2     713\n",
       "2 2019-08-02     A      36        34   3217.6    1338\n",
       "3 2019-08-02     B      40        39   3535.3    1294\n",
       "4 2019-08-03     A      60        58   5032.8    1845"
      ]
     },
     "metadata": {},
     "output_type": "display_data"
    },
    {
     "data": {
      "text/html": [
       "<div>\n",
       "<style scoped>\n",
       "    .dataframe tbody tr th:only-of-type {\n",
       "        vertical-align: middle;\n",
       "    }\n",
       "\n",
       "    .dataframe tbody tr th {\n",
       "        vertical-align: top;\n",
       "    }\n",
       "\n",
       "    .dataframe thead th {\n",
       "        text-align: right;\n",
       "    }\n",
       "</style>\n",
       "<table border=\"1\" class=\"dataframe\">\n",
       "  <thead>\n",
       "    <tr style=\"text-align: right;\">\n",
       "      <th></th>\n",
       "      <th>date</th>\n",
       "      <th>group</th>\n",
       "      <th>orders</th>\n",
       "      <th>visitors</th>\n",
       "      <th>revenue</th>\n",
       "      <th>visits</th>\n",
       "      <th>conversion</th>\n",
       "    </tr>\n",
       "  </thead>\n",
       "  <tbody>\n",
       "    <tr>\n",
       "      <th>0</th>\n",
       "      <td>2019-08-01</td>\n",
       "      <td>A</td>\n",
       "      <td>18</td>\n",
       "      <td>17</td>\n",
       "      <td>1779.3</td>\n",
       "      <td>719</td>\n",
       "      <td>0.025035</td>\n",
       "    </tr>\n",
       "    <tr>\n",
       "      <th>1</th>\n",
       "      <td>2019-08-01</td>\n",
       "      <td>B</td>\n",
       "      <td>17</td>\n",
       "      <td>17</td>\n",
       "      <td>967.2</td>\n",
       "      <td>713</td>\n",
       "      <td>0.023843</td>\n",
       "    </tr>\n",
       "    <tr>\n",
       "      <th>2</th>\n",
       "      <td>2019-08-02</td>\n",
       "      <td>A</td>\n",
       "      <td>36</td>\n",
       "      <td>34</td>\n",
       "      <td>3217.6</td>\n",
       "      <td>1338</td>\n",
       "      <td>0.026906</td>\n",
       "    </tr>\n",
       "    <tr>\n",
       "      <th>3</th>\n",
       "      <td>2019-08-02</td>\n",
       "      <td>B</td>\n",
       "      <td>40</td>\n",
       "      <td>39</td>\n",
       "      <td>3535.3</td>\n",
       "      <td>1294</td>\n",
       "      <td>0.030912</td>\n",
       "    </tr>\n",
       "    <tr>\n",
       "      <th>4</th>\n",
       "      <td>2019-08-03</td>\n",
       "      <td>A</td>\n",
       "      <td>60</td>\n",
       "      <td>58</td>\n",
       "      <td>5032.8</td>\n",
       "      <td>1845</td>\n",
       "      <td>0.032520</td>\n",
       "    </tr>\n",
       "  </tbody>\n",
       "</table>\n",
       "</div>"
      ],
      "text/plain": [
       "        date group  orders  visitors  revenue  visits  conversion\n",
       "0 2019-08-01     A      18        17   1779.3     719    0.025035\n",
       "1 2019-08-01     B      17        17    967.2     713    0.023843\n",
       "2 2019-08-02     A      36        34   3217.6    1338    0.026906\n",
       "3 2019-08-02     B      40        39   3535.3    1294    0.030912\n",
       "4 2019-08-03     A      60        58   5032.8    1845    0.032520"
      ]
     },
     "execution_count": 103,
     "metadata": {},
     "output_type": "execute_result"
    }
   ],
   "source": [
    "# Let's aggregate visit \n",
    "visits_aggregated = datesGroups.apply(lambda x: visits[np.logical_and(visits['date'] <= x['date'], visits['group'] == x['group'])].agg({'date' : 'max', 'group' : 'max', 'visits' : 'sum'}), axis=1).sort_values(by=['date','group'])\n",
    "\n",
    "normalusers_agg =  orders_agg_normalusers.merge(visits_aggregated, left_on=['date', 'group'], right_on=['date', 'group'])\n",
    "normalusers_agg.columns = ['date','group','orders','visitors','revenue','visits']\n",
    "display(normalusers_agg.head())\n",
    "\n",
    "\n",
    "normalusers_agg['conversion'] = normalusers_agg['orders']/normalusers_agg['visits']\n",
    "\n",
    "normalusers_agg.head(5)\n"
   ]
  },
  {
   "cell_type": "code",
   "execution_count": 102,
   "metadata": {},
   "outputs": [
    {
     "data": {
      "image/png": "[encoded data removed]",
      "text/plain": [
       "<Figure size 864x648 with 1 Axes>"
      ]
     },
     "metadata": {
      "needs_background": "light"
     },
     "output_type": "display_data"
    }
   ],
   "source": [
    "plt.figure(figsize=(12,9))\n",
    "sns.lineplot(data=normalusers_agg, x = 'date', y = 'revenue', hue='group')\n",
    "plt.grid(axis='y')\n",
    "plt.title(\"A/B test cumulative revenue\")\n",
    "plt.show()"
   ]
  },
  {
   "cell_type": "code",
   "execution_count": 104,
   "metadata": {
    "scrolled": false
   },
   "outputs": [
    {
     "data": {
      "image/png": "[encoded data removed]",
      "text/plain": [
       "<Figure size 864x648 with 1 Axes>"
      ]
     },
     "metadata": {
      "needs_background": "light"
     },
     "output_type": "display_data"
    }
   ],
   "source": [
    "plt.figure(figsize=(12,9))\n",
    "sns.lineplot(data=normalusers_agg, x = 'date', y = 'conversion', hue='group')\n",
    "plt.grid(axis='y')\n",
    "plt.title(\"A/B test cumulative conversion\")\n",
    "plt.show()"
   ]
  },
  {
   "cell_type": "markdown",
   "metadata": {},
   "source": [
    "### Find the statistical significance of the difference in average order size between the groups using the filtered data."
   ]
  },
  {
   "cell_type": "code",
   "execution_count": 47,
   "metadata": {},
   "outputs": [
    {
     "name": "stdout",
     "output_type": "stream",
     "text": [
      "We cannot state that there is statistical difference of order size for filtered groups A and B\n",
      "p-value is: 0.921 \n",
      "Relative mean order size Group B/A is 2.6%\n",
      "We cannot reject the null hypothesis\n"
     ]
    }
   ],
   "source": [
    "### comparing filtered sample A and sample B by average order size\n",
    "\n",
    "\n",
    "sampleAFiltered_orders = orders_filtered[np.logical_and(\n",
    "        orders_filtered['group']=='A',\n",
    "        np.logical_not(orders_filtered['visitorid'].isin(abnormalusers)))]['revenue']\n",
    "sampleBFiltered_orders =  orders_filtered[np.logical_and(\n",
    "        orders_filtered['group']=='B',\n",
    "        np.logical_not(orders_filtered['visitorid'].isin(abnormalusers)))]['revenue']\n",
    "alpha = 0.05\n",
    "p_value = stats.mannwhitneyu(sampleAFiltered_orders,sampleBFiltered_orders)[1]\n",
    "    \n",
    "if p_value<alpha:\n",
    "    print(f'''Filtered groups A and B are statistically different in order size. p-value is: {p_value:.3f}\n",
    "Relative mean order size Group B/A is {sampleBFiltered_orders.mean()/sampleAFiltered_orders.mean()-1:.1%}\n",
    "We reject the null hypothesis''')\n",
    "else:\n",
    "    print(f'''We cannot state that there is statistical difference of order size for filtered groups A and B\n",
    "p-value is: {p_value:.3f} \n",
    "Relative mean order size Group B/A is {sampleBFiltered_orders.mean()/sampleAFiltered_orders.mean()-1:.1%}\n",
    "We cannot reject the null hypothesis''')\n",
    "\n"
   ]
  },
  {
   "cell_type": "markdown",
   "metadata": {},
   "source": [
    "Having conducted a test we can conclude, that order sizes are statistically no different when comparing two filtered samples, with group B having a slight insignificant 2.6% edge over group A."
   ]
  },
  {
   "cell_type": "markdown",
   "metadata": {},
   "source": [
    "### Make a decision based on the test results."
   ]
  },
  {
   "cell_type": "markdown",
   "metadata": {},
   "source": [
    "Before conducting A/B tests 58 unique visitors, that were falsely assigned to more than one group, have been rooted out. \n",
    "\n",
    "Afterwards, cumulative revenue and cumulative order size by each group were graphed and in both cases group B featured better results in comparison to group A. However, when it comes to cumulative average order size analysis, there were fluctuations that could result from from outliers distprting the picture.\n",
    "\n",
    "Therefore, those users that are estimated to have 2 or more orders and purchases above 800 in revenue were regarded as outliers and excluded from analysis.\n",
    "\n",
    "\n",
    "The A/B tests consisted of comparing datasets with raw and filtered data on conversion and average order size. The tests were conducted using Mann - Whitney U tests to establish the possible statistical difference.\n",
    "The results after testing raw data were as follows:\n",
    "1. SampleA and SampleB are in fact different in conversion.\n",
    "2. Relative mean conversion Group B/A is 17.1%.\n",
    "3. There is no significant difference in average order sizes between SampleA and SampleB.\n",
    "4. Relative difference in SampleB/SampleA average order size: 25.165%\n",
    "\n",
    "\n",
    "The results after testing filtered data were as follows:\n",
    "1. Filtered groups A and B are statistically different in conversion. p-value is: 0.007    \n",
    "2. Relative mean conversion Group B/A is 19.1%.\n",
    "3. We cannot state that there is statistical difference of order size for filtered groups A and B\n",
    "4. Relative mean order size Group B/A is 2.6%\n",
    "\n",
    "As can be observed, filtered data did not bring change to the overall picture, the test results remained almost the same.\n",
    "Overall, the tests can be regarded as an overall success, because the test group has demonstrated a statistically significant positive change in conversion.  At the same time no positive changes are to be expected, with regards to average order size."
   ]
  }
 ],
 "metadata": {
  "kernelspec": {
   "display_name": "Python 3 (ipykernel)",
   "language": "python",
   "name": "python3"
  },
  "language_info": {
   "codemirror_mode": {
    "name": "ipython",
    "version": 3
   },
   "file_extension": ".py",
   "mimetype": "text/x-python",
   "name": "python",
   "nbconvert_exporter": "python",
   "pygments_lexer": "ipython3",
   "version": "3.11.5"
  },
  "toc": {
   "base_numbering": 1,
   "nav_menu": {},
   "number_sections": true,
   "sideBar": true,
   "skip_h1_title": true,
   "title_cell": "Table of Contents",
   "title_sidebar": "Contents",
   "toc_cell": false,
   "toc_position": {
    "height": "calc(100% - 180px)",
    "left": "10px",
    "top": "150px",
    "width": "251px"
   },
   "toc_section_display": true,
   "toc_window_display": true
  }
 },
 "nbformat": 4,
 "nbformat_minor": 2
}
