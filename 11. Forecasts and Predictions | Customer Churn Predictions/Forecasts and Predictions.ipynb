{
 "cells": [
  {
   "cell_type": "code",
   "execution_count": 2,
   "metadata": {},
   "outputs": [],
   "source": [
    "import pandas as pd\n",
    "import numpy as np\n",
    "import seaborn as sns\n",
    "import matplotlib.pyplot as plt \n",
    "from scipy.cluster.hierarchy import dendrogram, linkage\n",
    "from sklearn.model_selection import train_test_split\n",
    "from sklearn.preprocessing import StandardScaler\n",
    "from sklearn.linear_model import LogisticRegression\n",
    "from sklearn.ensemble import RandomForestClassifier\n",
    "from sklearn.metrics import accuracy_score, precision_score, recall_score, f1_score\n",
    "from sklearn.metrics import mean_absolute_error, mean_squared_error, r2_score\n",
    "from sklearn.metrics import accuracy_score, precision_score, recall_score, f1_score\n",
    "from sklearn.cluster import KMeans"
   ]
  },
  {
   "cell_type": "markdown",
   "metadata": {},
   "source": [
    "# Forecast and prediction project"
   ]
  },
  {
   "cell_type": "markdown",
   "metadata": {},
   "source": [
    "The gym chain Model Fitness is developing a customer interaction strategy based on analytical data.\n",
    "\n",
    "One of the most common problems gyms and other services face is customer churn.\n",
    "For a gym, it makes sense to say a customer has left if they don't come for a month. Usually, if a customer joins, comes a few times, then disappears, they're unlikely to come back.\n",
    "\n",
    "In order to fight churn, Model Fitness has digitized a number of its customer profiles. \n",
    "The task is to analyze them and come up with a customer retention strategy.\n",
    "\n",
    "\n",
    "\n",
    "We should:\n",
    "- Learn to predict the probability of churn (for the upcoming month) for each customer\n",
    "- Draw up typical user portraits: select the most outstanding groups and describe their main features\n",
    "- Analyze the factors that impact churn the most\n",
    "- Draw basic conclusions and develop recommendations on how to improve customer service:\n",
    "    - Identify target groups\n",
    "    - Suggest measures to cut churn\n",
    "    - Describe any other patterns you see with respect to interaction with customers\n"
   ]
  },
  {
   "cell_type": "markdown",
   "metadata": {},
   "source": [
    "# Loading and preparing the data "
   ]
  },
  {
   "cell_type": "markdown",
   "metadata": {},
   "source": [
    "**Let us load the data and have a first look at it**"
   ]
  },
  {
   "cell_type": "code",
   "execution_count": 3,
   "metadata": {},
   "outputs": [],
   "source": [
    "gym_data = pd.read_csv('/datasets/gym_churn_us.csv')"
   ]
  },
  {
   "cell_type": "code",
   "execution_count": 4,
   "metadata": {},
   "outputs": [
    {
     "name": "stdout",
     "output_type": "stream",
     "text": [
      "<class 'pandas.core.frame.DataFrame'>\n",
      "RangeIndex: 4000 entries, 0 to 3999\n",
      "Data columns (total 14 columns):\n",
      " #   Column                             Non-Null Count  Dtype  \n",
      "---  ------                             --------------  -----  \n",
      " 0   gender                             4000 non-null   int64  \n",
      " 1   Near_Location                      4000 non-null   int64  \n",
      " 2   Partner                            4000 non-null   int64  \n",
      " 3   Promo_friends                      4000 non-null   int64  \n",
      " 4   Phone                              4000 non-null   int64  \n",
      " 5   Contract_period                    4000 non-null   int64  \n",
      " 6   Group_visits                       4000 non-null   int64  \n",
      " 7   Age                                4000 non-null   int64  \n",
      " 8   Avg_additional_charges_total       4000 non-null   float64\n",
      " 9   Month_to_end_contract              4000 non-null   float64\n",
      " 10  Lifetime                           4000 non-null   int64  \n",
      " 11  Avg_class_frequency_total          4000 non-null   float64\n",
      " 12  Avg_class_frequency_current_month  4000 non-null   float64\n",
      " 13  Churn                              4000 non-null   int64  \n",
      "dtypes: float64(4), int64(10)\n",
      "memory usage: 437.6 KB\n"
     ]
    }
   ],
   "source": [
    "gym_data.info()"
   ]
  },
  {
   "cell_type": "code",
   "execution_count": 5,
   "metadata": {},
   "outputs": [
    {
     "data": {
      "text/html": [
       "<div>\n",
       "<style scoped>\n",
       "    .dataframe tbody tr th:only-of-type {\n",
       "        vertical-align: middle;\n",
       "    }\n",
       "\n",
       "    .dataframe tbody tr th {\n",
       "        vertical-align: top;\n",
       "    }\n",
       "\n",
       "    .dataframe thead th {\n",
       "        text-align: right;\n",
       "    }\n",
       "</style>\n",
       "<table border=\"1\" class=\"dataframe\">\n",
       "  <thead>\n",
       "    <tr style=\"text-align: right;\">\n",
       "      <th></th>\n",
       "      <th>gender</th>\n",
       "      <th>Near_Location</th>\n",
       "      <th>Partner</th>\n",
       "      <th>Promo_friends</th>\n",
       "      <th>Phone</th>\n",
       "      <th>Contract_period</th>\n",
       "      <th>Group_visits</th>\n",
       "      <th>Age</th>\n",
       "      <th>Avg_additional_charges_total</th>\n",
       "      <th>Month_to_end_contract</th>\n",
       "      <th>Lifetime</th>\n",
       "      <th>Avg_class_frequency_total</th>\n",
       "      <th>Avg_class_frequency_current_month</th>\n",
       "      <th>Churn</th>\n",
       "    </tr>\n",
       "  </thead>\n",
       "  <tbody>\n",
       "    <tr>\n",
       "      <th>0</th>\n",
       "      <td>1</td>\n",
       "      <td>1</td>\n",
       "      <td>1</td>\n",
       "      <td>1</td>\n",
       "      <td>0</td>\n",
       "      <td>6</td>\n",
       "      <td>1</td>\n",
       "      <td>29</td>\n",
       "      <td>14.227470</td>\n",
       "      <td>5.0</td>\n",
       "      <td>3</td>\n",
       "      <td>0.020398</td>\n",
       "      <td>0.000000</td>\n",
       "      <td>0</td>\n",
       "    </tr>\n",
       "    <tr>\n",
       "      <th>1</th>\n",
       "      <td>0</td>\n",
       "      <td>1</td>\n",
       "      <td>0</td>\n",
       "      <td>0</td>\n",
       "      <td>1</td>\n",
       "      <td>12</td>\n",
       "      <td>1</td>\n",
       "      <td>31</td>\n",
       "      <td>113.202938</td>\n",
       "      <td>12.0</td>\n",
       "      <td>7</td>\n",
       "      <td>1.922936</td>\n",
       "      <td>1.910244</td>\n",
       "      <td>0</td>\n",
       "    </tr>\n",
       "    <tr>\n",
       "      <th>2</th>\n",
       "      <td>0</td>\n",
       "      <td>1</td>\n",
       "      <td>1</td>\n",
       "      <td>0</td>\n",
       "      <td>1</td>\n",
       "      <td>1</td>\n",
       "      <td>0</td>\n",
       "      <td>28</td>\n",
       "      <td>129.448479</td>\n",
       "      <td>1.0</td>\n",
       "      <td>2</td>\n",
       "      <td>1.859098</td>\n",
       "      <td>1.736502</td>\n",
       "      <td>0</td>\n",
       "    </tr>\n",
       "    <tr>\n",
       "      <th>3</th>\n",
       "      <td>0</td>\n",
       "      <td>1</td>\n",
       "      <td>1</td>\n",
       "      <td>1</td>\n",
       "      <td>1</td>\n",
       "      <td>12</td>\n",
       "      <td>1</td>\n",
       "      <td>33</td>\n",
       "      <td>62.669863</td>\n",
       "      <td>12.0</td>\n",
       "      <td>2</td>\n",
       "      <td>3.205633</td>\n",
       "      <td>3.357215</td>\n",
       "      <td>0</td>\n",
       "    </tr>\n",
       "    <tr>\n",
       "      <th>4</th>\n",
       "      <td>1</td>\n",
       "      <td>1</td>\n",
       "      <td>1</td>\n",
       "      <td>1</td>\n",
       "      <td>1</td>\n",
       "      <td>1</td>\n",
       "      <td>0</td>\n",
       "      <td>26</td>\n",
       "      <td>198.362265</td>\n",
       "      <td>1.0</td>\n",
       "      <td>3</td>\n",
       "      <td>1.113884</td>\n",
       "      <td>1.120078</td>\n",
       "      <td>0</td>\n",
       "    </tr>\n",
       "  </tbody>\n",
       "</table>\n",
       "</div>"
      ],
      "text/plain": [
       "   gender  Near_Location  Partner  Promo_friends  Phone  Contract_period  \\\n",
       "0       1              1        1              1      0                6   \n",
       "1       0              1        0              0      1               12   \n",
       "2       0              1        1              0      1                1   \n",
       "3       0              1        1              1      1               12   \n",
       "4       1              1        1              1      1                1   \n",
       "\n",
       "   Group_visits  Age  Avg_additional_charges_total  Month_to_end_contract  \\\n",
       "0             1   29                     14.227470                    5.0   \n",
       "1             1   31                    113.202938                   12.0   \n",
       "2             0   28                    129.448479                    1.0   \n",
       "3             1   33                     62.669863                   12.0   \n",
       "4             0   26                    198.362265                    1.0   \n",
       "\n",
       "   Lifetime  Avg_class_frequency_total  Avg_class_frequency_current_month  \\\n",
       "0         3                   0.020398                           0.000000   \n",
       "1         7                   1.922936                           1.910244   \n",
       "2         2                   1.859098                           1.736502   \n",
       "3         2                   3.205633                           3.357215   \n",
       "4         3                   1.113884                           1.120078   \n",
       "\n",
       "   Churn  \n",
       "0      0  \n",
       "1      0  \n",
       "2      0  \n",
       "3      0  \n",
       "4      0  "
      ]
     },
     "execution_count": 5,
     "metadata": {},
     "output_type": "execute_result"
    }
   ],
   "source": [
    "gym_data.head()"
   ]
  },
  {
   "cell_type": "markdown",
   "metadata": {},
   "source": [
    "Dataframe fields legend:\n",
    "\n",
    "\n",
    "- 'Churn'— the fact of churn for the month in question\n",
    "**Current dataset fields:**\n",
    "User data for the preceding month\n",
    "- 'gender'\n",
    "- 'Near_Location'— whether the user lives or works in the neighborhood where the gym is located\n",
    "- 'Partner'— whether the user is an employee of a partner company (the gym has partner companies whose employees get discounts; in those cases the gym stores information on customers' employers)\n",
    "- Promo_friends— whether the user originally signed up through a \"bring a friend\" offer (they used a friend's promo code when paying for their first membership)\n",
    "- 'Phone'— whether the user provided their phone number\n",
    "- 'Age'\n",
    "- 'Lifetime'— the time (in months) since the customer first came to the gym\n",
    "**Data from the log of visits and purchases and data on current membership status**\n",
    "- 'Contract_period'— 1 month, 3 months, 6 months, or 1 year\n",
    "- 'Month_to_end_contract'— the months remaining until the contract expires\n",
    "- 'Group_visits'— whether the user takes part in group sessions\n",
    "- 'Avg_class_frequency_total'— average frequency of visits per week over the customer's lifetime\n",
    "- 'Avg_class_frequency_current_month'— average frequency of visits per week over the preceding month\n",
    "- 'Avg_additional_charges_total'— the total amount of money spent on other gym services: cafe, athletic goods, cosmetics, massages, etc.\n"
   ]
  },
  {
   "cell_type": "markdown",
   "metadata": {},
   "source": [
    "## Data preprocessing "
   ]
  },
  {
   "cell_type": "markdown",
   "metadata": {},
   "source": [
    "First, column names need to be standardized"
   ]
  },
  {
   "cell_type": "code",
   "execution_count": 6,
   "metadata": {},
   "outputs": [],
   "source": [
    "gym_data.columns = gym_data.columns.str.lower()"
   ]
  },
  {
   "cell_type": "code",
   "execution_count": 7,
   "metadata": {},
   "outputs": [
    {
     "data": {
      "text/html": [
       "<div>\n",
       "<style scoped>\n",
       "    .dataframe tbody tr th:only-of-type {\n",
       "        vertical-align: middle;\n",
       "    }\n",
       "\n",
       "    .dataframe tbody tr th {\n",
       "        vertical-align: top;\n",
       "    }\n",
       "\n",
       "    .dataframe thead th {\n",
       "        text-align: right;\n",
       "    }\n",
       "</style>\n",
       "<table border=\"1\" class=\"dataframe\">\n",
       "  <thead>\n",
       "    <tr style=\"text-align: right;\">\n",
       "      <th></th>\n",
       "      <th>gender</th>\n",
       "      <th>near_location</th>\n",
       "      <th>partner</th>\n",
       "      <th>promo_friends</th>\n",
       "      <th>phone</th>\n",
       "      <th>contract_period</th>\n",
       "      <th>group_visits</th>\n",
       "      <th>age</th>\n",
       "      <th>avg_additional_charges_total</th>\n",
       "      <th>month_to_end_contract</th>\n",
       "      <th>lifetime</th>\n",
       "      <th>avg_class_frequency_total</th>\n",
       "      <th>avg_class_frequency_current_month</th>\n",
       "      <th>churn</th>\n",
       "    </tr>\n",
       "  </thead>\n",
       "  <tbody>\n",
       "    <tr>\n",
       "      <th>0</th>\n",
       "      <td>1</td>\n",
       "      <td>1</td>\n",
       "      <td>1</td>\n",
       "      <td>1</td>\n",
       "      <td>0</td>\n",
       "      <td>6</td>\n",
       "      <td>1</td>\n",
       "      <td>29</td>\n",
       "      <td>14.227470</td>\n",
       "      <td>5.0</td>\n",
       "      <td>3</td>\n",
       "      <td>0.020398</td>\n",
       "      <td>0.000000</td>\n",
       "      <td>0</td>\n",
       "    </tr>\n",
       "    <tr>\n",
       "      <th>1</th>\n",
       "      <td>0</td>\n",
       "      <td>1</td>\n",
       "      <td>0</td>\n",
       "      <td>0</td>\n",
       "      <td>1</td>\n",
       "      <td>12</td>\n",
       "      <td>1</td>\n",
       "      <td>31</td>\n",
       "      <td>113.202938</td>\n",
       "      <td>12.0</td>\n",
       "      <td>7</td>\n",
       "      <td>1.922936</td>\n",
       "      <td>1.910244</td>\n",
       "      <td>0</td>\n",
       "    </tr>\n",
       "    <tr>\n",
       "      <th>2</th>\n",
       "      <td>0</td>\n",
       "      <td>1</td>\n",
       "      <td>1</td>\n",
       "      <td>0</td>\n",
       "      <td>1</td>\n",
       "      <td>1</td>\n",
       "      <td>0</td>\n",
       "      <td>28</td>\n",
       "      <td>129.448479</td>\n",
       "      <td>1.0</td>\n",
       "      <td>2</td>\n",
       "      <td>1.859098</td>\n",
       "      <td>1.736502</td>\n",
       "      <td>0</td>\n",
       "    </tr>\n",
       "    <tr>\n",
       "      <th>3</th>\n",
       "      <td>0</td>\n",
       "      <td>1</td>\n",
       "      <td>1</td>\n",
       "      <td>1</td>\n",
       "      <td>1</td>\n",
       "      <td>12</td>\n",
       "      <td>1</td>\n",
       "      <td>33</td>\n",
       "      <td>62.669863</td>\n",
       "      <td>12.0</td>\n",
       "      <td>2</td>\n",
       "      <td>3.205633</td>\n",
       "      <td>3.357215</td>\n",
       "      <td>0</td>\n",
       "    </tr>\n",
       "    <tr>\n",
       "      <th>4</th>\n",
       "      <td>1</td>\n",
       "      <td>1</td>\n",
       "      <td>1</td>\n",
       "      <td>1</td>\n",
       "      <td>1</td>\n",
       "      <td>1</td>\n",
       "      <td>0</td>\n",
       "      <td>26</td>\n",
       "      <td>198.362265</td>\n",
       "      <td>1.0</td>\n",
       "      <td>3</td>\n",
       "      <td>1.113884</td>\n",
       "      <td>1.120078</td>\n",
       "      <td>0</td>\n",
       "    </tr>\n",
       "  </tbody>\n",
       "</table>\n",
       "</div>"
      ],
      "text/plain": [
       "   gender  near_location  partner  promo_friends  phone  contract_period  \\\n",
       "0       1              1        1              1      0                6   \n",
       "1       0              1        0              0      1               12   \n",
       "2       0              1        1              0      1                1   \n",
       "3       0              1        1              1      1               12   \n",
       "4       1              1        1              1      1                1   \n",
       "\n",
       "   group_visits  age  avg_additional_charges_total  month_to_end_contract  \\\n",
       "0             1   29                     14.227470                    5.0   \n",
       "1             1   31                    113.202938                   12.0   \n",
       "2             0   28                    129.448479                    1.0   \n",
       "3             1   33                     62.669863                   12.0   \n",
       "4             0   26                    198.362265                    1.0   \n",
       "\n",
       "   lifetime  avg_class_frequency_total  avg_class_frequency_current_month  \\\n",
       "0         3                   0.020398                           0.000000   \n",
       "1         7                   1.922936                           1.910244   \n",
       "2         2                   1.859098                           1.736502   \n",
       "3         2                   3.205633                           3.357215   \n",
       "4         3                   1.113884                           1.120078   \n",
       "\n",
       "   churn  \n",
       "0      0  \n",
       "1      0  \n",
       "2      0  \n",
       "3      0  \n",
       "4      0  "
      ]
     },
     "execution_count": 7,
     "metadata": {},
     "output_type": "execute_result"
    }
   ],
   "source": [
    "gym_data.head()"
   ]
  },
  {
   "cell_type": "markdown",
   "metadata": {},
   "source": [
    "Let's find out if there are any missing values and duplicates in the dataset"
   ]
  },
  {
   "cell_type": "code",
   "execution_count": 8,
   "metadata": {},
   "outputs": [
    {
     "data": {
      "text/plain": [
       "gender                               0\n",
       "near_location                        0\n",
       "partner                              0\n",
       "promo_friends                        0\n",
       "phone                                0\n",
       "contract_period                      0\n",
       "group_visits                         0\n",
       "age                                  0\n",
       "avg_additional_charges_total         0\n",
       "month_to_end_contract                0\n",
       "lifetime                             0\n",
       "avg_class_frequency_total            0\n",
       "avg_class_frequency_current_month    0\n",
       "churn                                0\n",
       "dtype: int64"
      ]
     },
     "execution_count": 8,
     "metadata": {},
     "output_type": "execute_result"
    }
   ],
   "source": [
    "gym_data.isna().sum()"
   ]
  },
  {
   "cell_type": "code",
   "execution_count": 9,
   "metadata": {},
   "outputs": [
    {
     "data": {
      "text/plain": [
       "0"
      ]
     },
     "execution_count": 9,
     "metadata": {},
     "output_type": "execute_result"
    }
   ],
   "source": [
    "gym_data.duplicated().sum()"
   ]
  },
  {
   "cell_type": "code",
   "execution_count": 10,
   "metadata": {},
   "outputs": [
    {
     "data": {
      "text/html": [
       "<div>\n",
       "<style scoped>\n",
       "    .dataframe tbody tr th:only-of-type {\n",
       "        vertical-align: middle;\n",
       "    }\n",
       "\n",
       "    .dataframe tbody tr th {\n",
       "        vertical-align: top;\n",
       "    }\n",
       "\n",
       "    .dataframe thead th {\n",
       "        text-align: right;\n",
       "    }\n",
       "</style>\n",
       "<table border=\"1\" class=\"dataframe\">\n",
       "  <thead>\n",
       "    <tr style=\"text-align: right;\">\n",
       "      <th></th>\n",
       "      <th>gender</th>\n",
       "      <th>near_location</th>\n",
       "      <th>partner</th>\n",
       "      <th>promo_friends</th>\n",
       "      <th>phone</th>\n",
       "      <th>contract_period</th>\n",
       "      <th>group_visits</th>\n",
       "      <th>age</th>\n",
       "      <th>avg_additional_charges_total</th>\n",
       "      <th>month_to_end_contract</th>\n",
       "      <th>lifetime</th>\n",
       "      <th>avg_class_frequency_total</th>\n",
       "      <th>avg_class_frequency_current_month</th>\n",
       "      <th>churn</th>\n",
       "    </tr>\n",
       "  </thead>\n",
       "  <tbody>\n",
       "    <tr>\n",
       "      <th>count</th>\n",
       "      <td>4000.000000</td>\n",
       "      <td>4000.000000</td>\n",
       "      <td>4000.000000</td>\n",
       "      <td>4000.000000</td>\n",
       "      <td>4000.000000</td>\n",
       "      <td>4000.000000</td>\n",
       "      <td>4000.000000</td>\n",
       "      <td>4000.000000</td>\n",
       "      <td>4000.000000</td>\n",
       "      <td>4000.000000</td>\n",
       "      <td>4000.000000</td>\n",
       "      <td>4000.000000</td>\n",
       "      <td>4000.000000</td>\n",
       "      <td>4000.000000</td>\n",
       "    </tr>\n",
       "    <tr>\n",
       "      <th>mean</th>\n",
       "      <td>0.510250</td>\n",
       "      <td>0.845250</td>\n",
       "      <td>0.486750</td>\n",
       "      <td>0.308500</td>\n",
       "      <td>0.903500</td>\n",
       "      <td>4.681250</td>\n",
       "      <td>0.412250</td>\n",
       "      <td>29.184250</td>\n",
       "      <td>146.943728</td>\n",
       "      <td>4.322750</td>\n",
       "      <td>3.724750</td>\n",
       "      <td>1.879020</td>\n",
       "      <td>1.767052</td>\n",
       "      <td>0.265250</td>\n",
       "    </tr>\n",
       "    <tr>\n",
       "      <th>std</th>\n",
       "      <td>0.499957</td>\n",
       "      <td>0.361711</td>\n",
       "      <td>0.499887</td>\n",
       "      <td>0.461932</td>\n",
       "      <td>0.295313</td>\n",
       "      <td>4.549706</td>\n",
       "      <td>0.492301</td>\n",
       "      <td>3.258367</td>\n",
       "      <td>96.355602</td>\n",
       "      <td>4.191297</td>\n",
       "      <td>3.749267</td>\n",
       "      <td>0.972245</td>\n",
       "      <td>1.052906</td>\n",
       "      <td>0.441521</td>\n",
       "    </tr>\n",
       "    <tr>\n",
       "      <th>min</th>\n",
       "      <td>0.000000</td>\n",
       "      <td>0.000000</td>\n",
       "      <td>0.000000</td>\n",
       "      <td>0.000000</td>\n",
       "      <td>0.000000</td>\n",
       "      <td>1.000000</td>\n",
       "      <td>0.000000</td>\n",
       "      <td>18.000000</td>\n",
       "      <td>0.148205</td>\n",
       "      <td>1.000000</td>\n",
       "      <td>0.000000</td>\n",
       "      <td>0.000000</td>\n",
       "      <td>0.000000</td>\n",
       "      <td>0.000000</td>\n",
       "    </tr>\n",
       "    <tr>\n",
       "      <th>25%</th>\n",
       "      <td>0.000000</td>\n",
       "      <td>1.000000</td>\n",
       "      <td>0.000000</td>\n",
       "      <td>0.000000</td>\n",
       "      <td>1.000000</td>\n",
       "      <td>1.000000</td>\n",
       "      <td>0.000000</td>\n",
       "      <td>27.000000</td>\n",
       "      <td>68.868830</td>\n",
       "      <td>1.000000</td>\n",
       "      <td>1.000000</td>\n",
       "      <td>1.180875</td>\n",
       "      <td>0.963003</td>\n",
       "      <td>0.000000</td>\n",
       "    </tr>\n",
       "    <tr>\n",
       "      <th>50%</th>\n",
       "      <td>1.000000</td>\n",
       "      <td>1.000000</td>\n",
       "      <td>0.000000</td>\n",
       "      <td>0.000000</td>\n",
       "      <td>1.000000</td>\n",
       "      <td>1.000000</td>\n",
       "      <td>0.000000</td>\n",
       "      <td>29.000000</td>\n",
       "      <td>136.220159</td>\n",
       "      <td>1.000000</td>\n",
       "      <td>3.000000</td>\n",
       "      <td>1.832768</td>\n",
       "      <td>1.719574</td>\n",
       "      <td>0.000000</td>\n",
       "    </tr>\n",
       "    <tr>\n",
       "      <th>75%</th>\n",
       "      <td>1.000000</td>\n",
       "      <td>1.000000</td>\n",
       "      <td>1.000000</td>\n",
       "      <td>1.000000</td>\n",
       "      <td>1.000000</td>\n",
       "      <td>6.000000</td>\n",
       "      <td>1.000000</td>\n",
       "      <td>31.000000</td>\n",
       "      <td>210.949625</td>\n",
       "      <td>6.000000</td>\n",
       "      <td>5.000000</td>\n",
       "      <td>2.536078</td>\n",
       "      <td>2.510336</td>\n",
       "      <td>1.000000</td>\n",
       "    </tr>\n",
       "    <tr>\n",
       "      <th>max</th>\n",
       "      <td>1.000000</td>\n",
       "      <td>1.000000</td>\n",
       "      <td>1.000000</td>\n",
       "      <td>1.000000</td>\n",
       "      <td>1.000000</td>\n",
       "      <td>12.000000</td>\n",
       "      <td>1.000000</td>\n",
       "      <td>41.000000</td>\n",
       "      <td>552.590740</td>\n",
       "      <td>12.000000</td>\n",
       "      <td>31.000000</td>\n",
       "      <td>6.023668</td>\n",
       "      <td>6.146783</td>\n",
       "      <td>1.000000</td>\n",
       "    </tr>\n",
       "  </tbody>\n",
       "</table>\n",
       "</div>"
      ],
      "text/plain": [
       "            gender  near_location      partner  promo_friends        phone  \\\n",
       "count  4000.000000    4000.000000  4000.000000    4000.000000  4000.000000   \n",
       "mean      0.510250       0.845250     0.486750       0.308500     0.903500   \n",
       "std       0.499957       0.361711     0.499887       0.461932     0.295313   \n",
       "min       0.000000       0.000000     0.000000       0.000000     0.000000   \n",
       "25%       0.000000       1.000000     0.000000       0.000000     1.000000   \n",
       "50%       1.000000       1.000000     0.000000       0.000000     1.000000   \n",
       "75%       1.000000       1.000000     1.000000       1.000000     1.000000   \n",
       "max       1.000000       1.000000     1.000000       1.000000     1.000000   \n",
       "\n",
       "       contract_period  group_visits          age  \\\n",
       "count      4000.000000   4000.000000  4000.000000   \n",
       "mean          4.681250      0.412250    29.184250   \n",
       "std           4.549706      0.492301     3.258367   \n",
       "min           1.000000      0.000000    18.000000   \n",
       "25%           1.000000      0.000000    27.000000   \n",
       "50%           1.000000      0.000000    29.000000   \n",
       "75%           6.000000      1.000000    31.000000   \n",
       "max          12.000000      1.000000    41.000000   \n",
       "\n",
       "       avg_additional_charges_total  month_to_end_contract     lifetime  \\\n",
       "count                   4000.000000            4000.000000  4000.000000   \n",
       "mean                     146.943728               4.322750     3.724750   \n",
       "std                       96.355602               4.191297     3.749267   \n",
       "min                        0.148205               1.000000     0.000000   \n",
       "25%                       68.868830               1.000000     1.000000   \n",
       "50%                      136.220159               1.000000     3.000000   \n",
       "75%                      210.949625               6.000000     5.000000   \n",
       "max                      552.590740              12.000000    31.000000   \n",
       "\n",
       "       avg_class_frequency_total  avg_class_frequency_current_month  \\\n",
       "count                4000.000000                        4000.000000   \n",
       "mean                    1.879020                           1.767052   \n",
       "std                     0.972245                           1.052906   \n",
       "min                     0.000000                           0.000000   \n",
       "25%                     1.180875                           0.963003   \n",
       "50%                     1.832768                           1.719574   \n",
       "75%                     2.536078                           2.510336   \n",
       "max                     6.023668                           6.146783   \n",
       "\n",
       "             churn  \n",
       "count  4000.000000  \n",
       "mean      0.265250  \n",
       "std       0.441521  \n",
       "min       0.000000  \n",
       "25%       0.000000  \n",
       "50%       0.000000  \n",
       "75%       1.000000  \n",
       "max       1.000000  "
      ]
     },
     "execution_count": 10,
     "metadata": {},
     "output_type": "execute_result"
    }
   ],
   "source": [
    "gym_data.describe()"
   ]
  },
  {
   "cell_type": "markdown",
   "metadata": {},
   "source": [
    "Now it's time to have a look at the mean feature values in two groups: for those who left (churn) and for those who stayed.\n"
   ]
  },
  {
   "cell_type": "code",
   "execution_count": 11,
   "metadata": {},
   "outputs": [
    {
     "data": {
      "text/html": [
       "<div>\n",
       "<style scoped>\n",
       "    .dataframe tbody tr th:only-of-type {\n",
       "        vertical-align: middle;\n",
       "    }\n",
       "\n",
       "    .dataframe tbody tr th {\n",
       "        vertical-align: top;\n",
       "    }\n",
       "\n",
       "    .dataframe thead th {\n",
       "        text-align: right;\n",
       "    }\n",
       "</style>\n",
       "<table border=\"1\" class=\"dataframe\">\n",
       "  <thead>\n",
       "    <tr style=\"text-align: right;\">\n",
       "      <th></th>\n",
       "      <th>stayed</th>\n",
       "      <th>left</th>\n",
       "    </tr>\n",
       "  </thead>\n",
       "  <tbody>\n",
       "    <tr>\n",
       "      <th>churn</th>\n",
       "      <td>0.00</td>\n",
       "      <td>1.00</td>\n",
       "    </tr>\n",
       "    <tr>\n",
       "      <th>gender</th>\n",
       "      <td>0.51</td>\n",
       "      <td>0.51</td>\n",
       "    </tr>\n",
       "    <tr>\n",
       "      <th>near_location</th>\n",
       "      <td>0.87</td>\n",
       "      <td>0.77</td>\n",
       "    </tr>\n",
       "    <tr>\n",
       "      <th>partner</th>\n",
       "      <td>0.53</td>\n",
       "      <td>0.36</td>\n",
       "    </tr>\n",
       "    <tr>\n",
       "      <th>promo_friends</th>\n",
       "      <td>0.35</td>\n",
       "      <td>0.18</td>\n",
       "    </tr>\n",
       "    <tr>\n",
       "      <th>phone</th>\n",
       "      <td>0.90</td>\n",
       "      <td>0.90</td>\n",
       "    </tr>\n",
       "    <tr>\n",
       "      <th>contract_period</th>\n",
       "      <td>5.75</td>\n",
       "      <td>1.73</td>\n",
       "    </tr>\n",
       "    <tr>\n",
       "      <th>group_visits</th>\n",
       "      <td>0.46</td>\n",
       "      <td>0.27</td>\n",
       "    </tr>\n",
       "    <tr>\n",
       "      <th>age</th>\n",
       "      <td>29.98</td>\n",
       "      <td>26.99</td>\n",
       "    </tr>\n",
       "    <tr>\n",
       "      <th>avg_additional_charges_total</th>\n",
       "      <td>158.45</td>\n",
       "      <td>115.08</td>\n",
       "    </tr>\n",
       "    <tr>\n",
       "      <th>month_to_end_contract</th>\n",
       "      <td>5.28</td>\n",
       "      <td>1.66</td>\n",
       "    </tr>\n",
       "    <tr>\n",
       "      <th>lifetime</th>\n",
       "      <td>4.71</td>\n",
       "      <td>0.99</td>\n",
       "    </tr>\n",
       "    <tr>\n",
       "      <th>avg_class_frequency_total</th>\n",
       "      <td>2.02</td>\n",
       "      <td>1.47</td>\n",
       "    </tr>\n",
       "    <tr>\n",
       "      <th>avg_class_frequency_current_month</th>\n",
       "      <td>2.03</td>\n",
       "      <td>1.04</td>\n",
       "    </tr>\n",
       "  </tbody>\n",
       "</table>\n",
       "</div>"
      ],
      "text/plain": [
       "                                   stayed    left\n",
       "churn                                0.00    1.00\n",
       "gender                               0.51    0.51\n",
       "near_location                        0.87    0.77\n",
       "partner                              0.53    0.36\n",
       "promo_friends                        0.35    0.18\n",
       "phone                                0.90    0.90\n",
       "contract_period                      5.75    1.73\n",
       "group_visits                         0.46    0.27\n",
       "age                                 29.98   26.99\n",
       "avg_additional_charges_total       158.45  115.08\n",
       "month_to_end_contract                5.28    1.66\n",
       "lifetime                             4.71    0.99\n",
       "avg_class_frequency_total            2.02    1.47\n",
       "avg_class_frequency_current_month    2.03    1.04"
      ]
     },
     "execution_count": 11,
     "metadata": {},
     "output_type": "execute_result"
    }
   ],
   "source": [
    "gym_data_grouped = gym_data.groupby(by=['churn']).mean().reset_index().transpose().round(2)\n",
    "\n",
    "gym_data_grouped.columns = ['stayed','left']\n",
    "gym_data_grouped"
   ]
  },
  {
   "cell_type": "markdown",
   "metadata": {},
   "source": [
    "The initial look at grouped data reveals some remarkable initial insights:\n",
    "1. Gender distribution in both groups is equal\n",
    "2. Those customers who leave closer to the gym tend to remain a member of the Model Fitness more often\n",
    "3. Discounts and benefits for employees of a partner company/promos through friends overall seem to have a positive effect on churn, since  those who stayed account for a considerably bigger propotion of customers than those who left\n",
    "4. Those customers who stay are more likely to participate in group events\n",
    "5. Customers who left visit the gym half as many times as those who stay"
   ]
  },
  {
   "cell_type": "markdown",
   "metadata": {},
   "source": [
    "Now we can take a look at the percentage distribution by feature for those customers that stayed and those that left"
   ]
  },
  {
   "cell_type": "code",
   "execution_count": 68,
   "metadata": {
    "scrolled": false
   },
   "outputs": [
    {
     "name": "stdout",
     "output_type": "stream",
     "text": [
      "distribution for churned customers\n"
     ]
    },
    {
     "data": {
      "text/plain": [
       "1    51.1%\n",
       "0    48.9%\n",
       "Name: gender, dtype: object"
      ]
     },
     "metadata": {},
     "output_type": "display_data"
    },
    {
     "data": {
      "text/plain": [
       "1    76.8%\n",
       "0    23.2%\n",
       "Name: near_location, dtype: object"
      ]
     },
     "metadata": {},
     "output_type": "display_data"
    },
    {
     "data": {
      "text/plain": [
       "0    64.5%\n",
       "1    35.5%\n",
       "Name: partner, dtype: object"
      ]
     },
     "metadata": {},
     "output_type": "display_data"
    },
    {
     "data": {
      "text/plain": [
       "0    81.6%\n",
       "1    18.4%\n",
       "Name: promo_friends, dtype: object"
      ]
     },
     "metadata": {},
     "output_type": "display_data"
    },
    {
     "data": {
      "text/plain": [
       "1    90.3%\n",
       "0     9.7%\n",
       "Name: phone, dtype: object"
      ]
     },
     "metadata": {},
     "output_type": "display_data"
    },
    {
     "data": {
      "text/plain": [
       "1     88.0%\n",
       "6      9.8%\n",
       "12     2.2%\n",
       "Name: contract_period, dtype: object"
      ]
     },
     "metadata": {},
     "output_type": "display_data"
    },
    {
     "data": {
      "text/plain": [
       "0    73.1%\n",
       "1    26.9%\n",
       "Name: group_visits, dtype: object"
      ]
     },
     "metadata": {},
     "output_type": "display_data"
    },
    {
     "data": {
      "text/plain": [
       "27    13.1%\n",
       "28    12.8%\n",
       "26    12.5%\n",
       "25    12.3%\n",
       "29    11.2%\n",
       "24     8.2%\n",
       "30     7.6%\n",
       "23     5.3%\n",
       "31     5.3%\n",
       "32     3.4%\n",
       "22     2.5%\n",
       "21     1.8%\n",
       "33     1.6%\n",
       "20     1.0%\n",
       "34     0.8%\n",
       "35     0.3%\n",
       "18     0.2%\n",
       "19     0.1%\n",
       "38     0.1%\n",
       "Name: age, dtype: object"
      ]
     },
     "metadata": {},
     "output_type": "display_data"
    },
    {
     "data": {
      "text/plain": [
       "89.810082     0.1%\n",
       "204.444527    0.1%\n",
       "115.487561    0.1%\n",
       "85.172779     0.1%\n",
       "104.472327    0.1%\n",
       "              ... \n",
       "189.895340    0.1%\n",
       "25.030534     0.1%\n",
       "425.535220    0.1%\n",
       "115.359883    0.1%\n",
       "116.748540    0.1%\n",
       "Name: avg_additional_charges_total, Length: 1061, dtype: object"
      ]
     },
     "metadata": {},
     "output_type": "display_data"
    },
    {
     "data": {
      "text/plain": [
       "1.0     88.0%\n",
       "6.0      7.2%\n",
       "5.0      1.8%\n",
       "12.0     1.2%\n",
       "4.0      0.7%\n",
       "11.0     0.4%\n",
       "10.0     0.2%\n",
       "2.0      0.2%\n",
       "9.0      0.1%\n",
       "3.0      0.1%\n",
       "8.0      0.1%\n",
       "7.0      0.1%\n",
       "Name: month_to_end_contract, dtype: object"
      ]
     },
     "metadata": {},
     "output_type": "display_data"
    },
    {
     "data": {
      "text/plain": [
       "1    39.0%\n",
       "0    38.0%\n",
       "2    14.8%\n",
       "3     4.7%\n",
       "4     2.2%\n",
       "5     0.8%\n",
       "6     0.4%\n",
       "8     0.1%\n",
       "9     0.1%\n",
       "Name: lifetime, dtype: object"
      ]
     },
     "metadata": {},
     "output_type": "display_data"
    },
    {
     "data": {
      "text/plain": [
       "0.000000    1.9%\n",
       "2.223131    0.1%\n",
       "2.899157    0.1%\n",
       "1.250559    0.1%\n",
       "1.674183    0.1%\n",
       "            ... \n",
       "1.681779    0.1%\n",
       "0.605093    0.1%\n",
       "1.151147    0.1%\n",
       "0.886548    0.1%\n",
       "0.992312    0.1%\n",
       "Name: avg_class_frequency_total, Length: 1042, dtype: object"
      ]
     },
     "metadata": {},
     "output_type": "display_data"
    },
    {
     "data": {
      "text/plain": [
       "0.000000    12.6%\n",
       "1.844565     0.1%\n",
       "1.798017     0.1%\n",
       "0.789772     0.1%\n",
       "2.498656     0.1%\n",
       "            ...  \n",
       "0.505336     0.1%\n",
       "1.660564     0.1%\n",
       "1.795962     0.1%\n",
       "0.327703     0.1%\n",
       "1.069571     0.1%\n",
       "Name: avg_class_frequency_current_month, Length: 928, dtype: object"
      ]
     },
     "metadata": {},
     "output_type": "display_data"
    }
   ],
   "source": [
    "df_churn = gym_data.query('churn == 1').drop('churn', axis=1)\n",
    "\n",
    "print('distribution for churned customers')\n",
    "for feature in df_churn.columns:\n",
    "    display(df_churn[feature].value_counts(normalize=True).map(\"{:.1%}\".format))\n"
   ]
  },
  {
   "cell_type": "code",
   "execution_count": 66,
   "metadata": {
    "scrolled": false
   },
   "outputs": [
    {
     "name": "stdout",
     "output_type": "stream",
     "text": [
      "distribution for staying customers\n"
     ]
    },
    {
     "data": {
      "text/plain": [
       "1    51.0%\n",
       "0    49.0%\n",
       "Name: gender, dtype: object"
      ]
     },
     "metadata": {},
     "output_type": "display_data"
    },
    {
     "data": {
      "text/plain": [
       "1    87.3%\n",
       "0    12.7%\n",
       "Name: near_location, dtype: object"
      ]
     },
     "metadata": {},
     "output_type": "display_data"
    },
    {
     "data": {
      "text/plain": [
       "1    53.4%\n",
       "0    46.6%\n",
       "Name: partner, dtype: object"
      ]
     },
     "metadata": {},
     "output_type": "display_data"
    },
    {
     "data": {
      "text/plain": [
       "0    64.6%\n",
       "1    35.4%\n",
       "Name: promo_friends, dtype: object"
      ]
     },
     "metadata": {},
     "output_type": "display_data"
    },
    {
     "data": {
      "text/plain": [
       "1    90.4%\n",
       "0     9.6%\n",
       "Name: phone, dtype: object"
      ]
     },
     "metadata": {},
     "output_type": "display_data"
    },
    {
     "data": {
      "text/plain": [
       "1     43.3%\n",
       "12    31.9%\n",
       "6     24.8%\n",
       "Name: contract_period, dtype: object"
      ]
     },
     "metadata": {},
     "output_type": "display_data"
    },
    {
     "data": {
      "text/plain": [
       "0    53.6%\n",
       "1    46.4%\n",
       "Name: group_visits, dtype: object"
      ]
     },
     "metadata": {},
     "output_type": "display_data"
    },
    {
     "data": {
      "text/plain": [
       "31    12.9%\n",
       "30    12.8%\n",
       "29    11.9%\n",
       "32    11.2%\n",
       "28    10.6%\n",
       "27     8.1%\n",
       "33     8.0%\n",
       "26     5.7%\n",
       "34     5.6%\n",
       "25     3.4%\n",
       "35     3.2%\n",
       "24     2.1%\n",
       "36     1.6%\n",
       "37     1.0%\n",
       "23     0.9%\n",
       "38     0.3%\n",
       "22     0.2%\n",
       "21     0.2%\n",
       "39     0.1%\n",
       "20     0.1%\n",
       "19     0.0%\n",
       "41     0.0%\n",
       "Name: age, dtype: object"
      ]
     },
     "metadata": {},
     "output_type": "display_data"
    },
    {
     "data": {
      "text/plain": [
       "89.952762     0.0%\n",
       "268.097493    0.0%\n",
       "79.293618     0.0%\n",
       "29.953094     0.0%\n",
       "196.440361    0.0%\n",
       "              ... \n",
       "32.123604     0.0%\n",
       "139.396467    0.0%\n",
       "309.775129    0.0%\n",
       "245.779728    0.0%\n",
       "204.757464    0.0%\n",
       "Name: avg_additional_charges_total, Length: 2939, dtype: object"
      ]
     },
     "metadata": {},
     "output_type": "display_data"
    },
    {
     "data": {
      "text/plain": [
       "1.0     43.3%\n",
       "6.0     19.4%\n",
       "12.0    17.4%\n",
       "11.0     6.0%\n",
       "5.0      3.8%\n",
       "10.0     2.7%\n",
       "9.0      2.4%\n",
       "4.0      1.7%\n",
       "8.0      1.3%\n",
       "7.0      0.8%\n",
       "3.0      0.7%\n",
       "2.0      0.4%\n",
       "Name: month_to_end_contract, dtype: object"
      ]
     },
     "metadata": {},
     "output_type": "display_data"
    },
    {
     "data": {
      "text/plain": [
       "2     15.4%\n",
       "3     15.0%\n",
       "1     14.6%\n",
       "4     12.2%\n",
       "5      9.0%\n",
       "6      7.3%\n",
       "7      5.7%\n",
       "8      3.7%\n",
       "9      3.4%\n",
       "0      2.9%\n",
       "10     2.6%\n",
       "12     1.8%\n",
       "11     1.6%\n",
       "13     1.0%\n",
       "15     0.8%\n",
       "14     0.8%\n",
       "16     0.5%\n",
       "17     0.4%\n",
       "19     0.2%\n",
       "20     0.2%\n",
       "18     0.2%\n",
       "21     0.2%\n",
       "22     0.1%\n",
       "26     0.1%\n",
       "24     0.1%\n",
       "23     0.1%\n",
       "27     0.0%\n",
       "29     0.0%\n",
       "31     0.0%\n",
       "Name: lifetime, dtype: object"
      ]
     },
     "metadata": {},
     "output_type": "display_data"
    },
    {
     "data": {
      "text/plain": [
       "0.000000    2.3%\n",
       "1.937791    0.0%\n",
       "1.823102    0.0%\n",
       "1.699092    0.0%\n",
       "2.945340    0.0%\n",
       "            ... \n",
       "1.707046    0.0%\n",
       "0.852746    0.0%\n",
       "0.747014    0.0%\n",
       "3.555307    0.0%\n",
       "1.317594    0.0%\n",
       "Name: avg_class_frequency_total, Length: 2872, dtype: object"
      ]
     },
     "metadata": {},
     "output_type": "display_data"
    },
    {
     "data": {
      "text/plain": [
       "0.000000    1.6%\n",
       "2.630594    0.0%\n",
       "2.085987    0.0%\n",
       "1.193288    0.0%\n",
       "2.125691    0.0%\n",
       "            ... \n",
       "3.282305    0.0%\n",
       "2.552564    0.0%\n",
       "3.103099    0.0%\n",
       "2.426164    0.0%\n",
       "1.454710    0.0%\n",
       "Name: avg_class_frequency_current_month, Length: 2893, dtype: object"
      ]
     },
     "metadata": {},
     "output_type": "display_data"
    }
   ],
   "source": [
    "df_nonchurn = gym_data.query('churn == 0').drop('churn', axis=1)\n",
    "print('distribution for staying customers')\n",
    "for feature in df_nonchurn.columns:\n",
    "    display(df_nonchurn[feature].value_counts(normalize=True).map(\"{:.1%}\".format))"
   ]
  },
  {
   "cell_type": "markdown",
   "metadata": {},
   "source": [
    " \n",
    "It is worth mentioning here, that staying customers are more likely to live near the company. 77% of churned customers and 87% of stayed customers live near Model Fitness.\n",
    "\n",
    "35% of churned and 47% stayed customers are employees of a partner company, meaning that this feature is beneficial to our customers\n",
    "\n",
    "18% of churned customers signed up through a \"bring a friend\" offer and 35% of stayed customers did the same. So recommendation of friends are beneficial to the busibess, since customers are less likely to churn.\n",
    "\n",
    "Contract duration varies quite profoundly between churned andstayed customers. 88% of churned customers signed contract just for 1 month, with 43% of stayed customers signing for the same period. \n",
    "\n",
    "Hence, contract duration is an inpactful factor that brings to a conclusion, that  those customera who have contracts longer than 1 month are much less likely to churn. \n",
    "\n",
    "A similar picture is with time till the end of the contract. 88% of churned customers have just 1 month until the end of the contract with 43% of stayed customers having as little. There is a strong correlation between contract duration and time till the end of the contract.\n",
    "\n",
    "Only 27% of churned customers took part at group sessions and 46% of stayed customers do. Group sessions are keeping people away from leaving.\n",
    "\n",
    "Customers who are not planning to stay are unlikely spend money on additional services. This is backed by the data: The average check is 158 USD for stayed customers and churned customers spend on average 115 USD.\n",
    "\n",
    "The life time span is pretty short for churned customers. Majority of them churn just after the first month or within first 2 months. Staying customers are have much longer life time period. Average Life time span for staying people is 4.7 months, and churned customers have average life time below 1 month.\n",
    "\n",
    "Also, one should point out, that stayed customers visit gym more often. According to the data, if the customer changed his behavior and stopped visiting the gym in current month, that is a signal that he may soon churn."
   ]
  },
  {
   "cell_type": "markdown",
   "metadata": {},
   "source": [
    "**Let's plot bar histograms and feature distributions for those who left (churn) and those who stayed.**"
   ]
  },
  {
   "cell_type": "code",
   "execution_count": 15,
   "metadata": {
    "scrolled": false
   },
   "outputs": [
    {
     "data": {
      "image/png": "[encoded data removed]",
      "text/plain": [
       "<Figure size 432x288 with 1 Axes>"
      ]
     },
     "metadata": {
      "needs_background": "light"
     },
     "output_type": "display_data"
    },
    {
     "data": {
      "image/png": "[encoded data removed]",
      "text/plain": [
       "<Figure size 432x288 with 1 Axes>"
      ]
     },
     "metadata": {
      "needs_background": "light"
     },
     "output_type": "display_data"
    },
    {
     "data": {
      "image/png": "[encoded data removed]",
      "text/plain": [
       "<Figure size 432x288 with 1 Axes>"
      ]
     },
     "metadata": {
      "needs_background": "light"
     },
     "output_type": "display_data"
    },
    {
     "data": {
      "image/png": "[encoded data removed]",
      "text/plain": [
       "<Figure size 432x288 with 1 Axes>"
      ]
     },
     "metadata": {
      "needs_background": "light"
     },
     "output_type": "display_data"
    },
    {
     "data": {
      "image/png": "[encoded data removed]",
      "text/plain": [
       "<Figure size 432x288 with 1 Axes>"
      ]
     },
     "metadata": {
      "needs_background": "light"
     },
     "output_type": "display_data"
    },
    {
     "data": {
      "image/png": "[encoded data removed]",
      "text/plain": [
       "<Figure size 432x288 with 1 Axes>"
      ]
     },
     "metadata": {
      "needs_background": "light"
     },
     "output_type": "display_data"
    },
    {
     "data": {
      "image/png": "[encoded data removed]",
      "text/plain": [
       "<Figure size 432x288 with 1 Axes>"
      ]
     },
     "metadata": {
      "needs_background": "light"
     },
     "output_type": "display_data"
    },
    {
     "data": {
      "image/png": "[encoded data removed]",
      "text/plain": [
       "<Figure size 432x288 with 1 Axes>"
      ]
     },
     "metadata": {
      "needs_background": "light"
     },
     "output_type": "display_data"
    },
    {
     "data": {
      "image/png": "[encoded data removed]",
      "text/plain": [
       "<Figure size 432x288 with 1 Axes>"
      ]
     },
     "metadata": {
      "needs_background": "light"
     },
     "output_type": "display_data"
    },
    {
     "data": {
      "image/png": "[encoded data removed]",
      "text/plain": [
       "<Figure size 432x288 with 1 Axes>"
      ]
     },
     "metadata": {
      "needs_background": "light"
     },
     "output_type": "display_data"
    },
    {
     "data": {
      "image/png": "[encoded data removed]",
      "text/plain": [
       "<Figure size 432x288 with 1 Axes>"
      ]
     },
     "metadata": {
      "needs_background": "light"
     },
     "output_type": "display_data"
    },
    {
     "data": {
      "image/png": "[encoded data removed]",
      "text/plain": [
       "<Figure size 432x288 with 1 Axes>"
      ]
     },
     "metadata": {
      "needs_background": "light"
     },
     "output_type": "display_data"
    },
    {
     "data": {
      "image/png": "[encoded data removed]",
      "text/plain": [
       "<Figure size 432x288 with 1 Axes>"
      ]
     },
     "metadata": {
      "needs_background": "light"
     },
     "output_type": "display_data"
    }
   ],
   "source": [
    "\n",
    "for feature in gym_data.drop('churn', axis=1).columns:\n",
    "    sns.histplot(gym_data, x=feature, hue='churn', multiple='dodge')\n",
    "    plt.legend(labels = ['left', 'stayed'])\n",
    "    plt.show()\n"
   ]
  },
  {
   "cell_type": "code",
   "execution_count": 16,
   "metadata": {},
   "outputs": [
    {
     "data": {
      "text/html": [
       "<div>\n",
       "<style scoped>\n",
       "    .dataframe tbody tr th:only-of-type {\n",
       "        vertical-align: middle;\n",
       "    }\n",
       "\n",
       "    .dataframe tbody tr th {\n",
       "        vertical-align: top;\n",
       "    }\n",
       "\n",
       "    .dataframe thead th {\n",
       "        text-align: right;\n",
       "    }\n",
       "</style>\n",
       "<table border=\"1\" class=\"dataframe\">\n",
       "  <thead>\n",
       "    <tr style=\"text-align: right;\">\n",
       "      <th></th>\n",
       "      <th>gender</th>\n",
       "      <th>near_location</th>\n",
       "      <th>partner</th>\n",
       "      <th>promo_friends</th>\n",
       "      <th>phone</th>\n",
       "      <th>contract_period</th>\n",
       "      <th>group_visits</th>\n",
       "      <th>age</th>\n",
       "      <th>avg_additional_charges_total</th>\n",
       "      <th>month_to_end_contract</th>\n",
       "      <th>lifetime</th>\n",
       "      <th>avg_class_frequency_total</th>\n",
       "      <th>avg_class_frequency_current_month</th>\n",
       "      <th>churn</th>\n",
       "    </tr>\n",
       "  </thead>\n",
       "  <tbody>\n",
       "    <tr>\n",
       "      <th>gender</th>\n",
       "      <td>1.000000</td>\n",
       "      <td>0.006699</td>\n",
       "      <td>-0.010463</td>\n",
       "      <td>-0.005033</td>\n",
       "      <td>-0.008542</td>\n",
       "      <td>0.000502</td>\n",
       "      <td>0.017879</td>\n",
       "      <td>0.013807</td>\n",
       "      <td>-0.009334</td>\n",
       "      <td>-0.001281</td>\n",
       "      <td>0.013579</td>\n",
       "      <td>0.014620</td>\n",
       "      <td>0.009156</td>\n",
       "      <td>0.000708</td>\n",
       "    </tr>\n",
       "    <tr>\n",
       "      <th>near_location</th>\n",
       "      <td>0.006699</td>\n",
       "      <td>1.000000</td>\n",
       "      <td>-0.005119</td>\n",
       "      <td>0.210964</td>\n",
       "      <td>-0.015763</td>\n",
       "      <td>0.150233</td>\n",
       "      <td>0.154728</td>\n",
       "      <td>0.058358</td>\n",
       "      <td>0.040761</td>\n",
       "      <td>0.143961</td>\n",
       "      <td>0.070921</td>\n",
       "      <td>0.043127</td>\n",
       "      <td>0.062664</td>\n",
       "      <td>-0.128098</td>\n",
       "    </tr>\n",
       "    <tr>\n",
       "      <th>partner</th>\n",
       "      <td>-0.010463</td>\n",
       "      <td>-0.005119</td>\n",
       "      <td>1.000000</td>\n",
       "      <td>0.451960</td>\n",
       "      <td>0.009970</td>\n",
       "      <td>0.306166</td>\n",
       "      <td>0.022710</td>\n",
       "      <td>0.047480</td>\n",
       "      <td>0.022941</td>\n",
       "      <td>0.294632</td>\n",
       "      <td>0.061229</td>\n",
       "      <td>0.024938</td>\n",
       "      <td>0.045561</td>\n",
       "      <td>-0.157986</td>\n",
       "    </tr>\n",
       "    <tr>\n",
       "      <th>promo_friends</th>\n",
       "      <td>-0.005033</td>\n",
       "      <td>0.210964</td>\n",
       "      <td>0.451960</td>\n",
       "      <td>1.000000</td>\n",
       "      <td>0.001982</td>\n",
       "      <td>0.244552</td>\n",
       "      <td>0.120170</td>\n",
       "      <td>0.050113</td>\n",
       "      <td>0.036898</td>\n",
       "      <td>0.239553</td>\n",
       "      <td>0.072721</td>\n",
       "      <td>0.028063</td>\n",
       "      <td>0.053768</td>\n",
       "      <td>-0.162233</td>\n",
       "    </tr>\n",
       "    <tr>\n",
       "      <th>phone</th>\n",
       "      <td>-0.008542</td>\n",
       "      <td>-0.015763</td>\n",
       "      <td>0.009970</td>\n",
       "      <td>0.001982</td>\n",
       "      <td>1.000000</td>\n",
       "      <td>-0.006893</td>\n",
       "      <td>-0.010099</td>\n",
       "      <td>-0.011403</td>\n",
       "      <td>0.009279</td>\n",
       "      <td>-0.011196</td>\n",
       "      <td>-0.018801</td>\n",
       "      <td>0.008340</td>\n",
       "      <td>0.013375</td>\n",
       "      <td>-0.001177</td>\n",
       "    </tr>\n",
       "    <tr>\n",
       "      <th>contract_period</th>\n",
       "      <td>0.000502</td>\n",
       "      <td>0.150233</td>\n",
       "      <td>0.306166</td>\n",
       "      <td>0.244552</td>\n",
       "      <td>-0.006893</td>\n",
       "      <td>1.000000</td>\n",
       "      <td>0.169991</td>\n",
       "      <td>0.138249</td>\n",
       "      <td>0.111445</td>\n",
       "      <td>0.973064</td>\n",
       "      <td>0.170725</td>\n",
       "      <td>0.096211</td>\n",
       "      <td>0.159407</td>\n",
       "      <td>-0.389984</td>\n",
       "    </tr>\n",
       "    <tr>\n",
       "      <th>group_visits</th>\n",
       "      <td>0.017879</td>\n",
       "      <td>0.154728</td>\n",
       "      <td>0.022710</td>\n",
       "      <td>0.120170</td>\n",
       "      <td>-0.010099</td>\n",
       "      <td>0.169991</td>\n",
       "      <td>1.000000</td>\n",
       "      <td>0.080934</td>\n",
       "      <td>0.032079</td>\n",
       "      <td>0.163703</td>\n",
       "      <td>0.075853</td>\n",
       "      <td>0.056695</td>\n",
       "      <td>0.075923</td>\n",
       "      <td>-0.175325</td>\n",
       "    </tr>\n",
       "    <tr>\n",
       "      <th>age</th>\n",
       "      <td>0.013807</td>\n",
       "      <td>0.058358</td>\n",
       "      <td>0.047480</td>\n",
       "      <td>0.050113</td>\n",
       "      <td>-0.011403</td>\n",
       "      <td>0.138249</td>\n",
       "      <td>0.080934</td>\n",
       "      <td>1.000000</td>\n",
       "      <td>0.080240</td>\n",
       "      <td>0.134511</td>\n",
       "      <td>0.164693</td>\n",
       "      <td>0.119953</td>\n",
       "      <td>0.183095</td>\n",
       "      <td>-0.404735</td>\n",
       "    </tr>\n",
       "    <tr>\n",
       "      <th>avg_additional_charges_total</th>\n",
       "      <td>-0.009334</td>\n",
       "      <td>0.040761</td>\n",
       "      <td>0.022941</td>\n",
       "      <td>0.036898</td>\n",
       "      <td>0.009279</td>\n",
       "      <td>0.111445</td>\n",
       "      <td>0.032079</td>\n",
       "      <td>0.080240</td>\n",
       "      <td>1.000000</td>\n",
       "      <td>0.113958</td>\n",
       "      <td>0.079028</td>\n",
       "      <td>0.044426</td>\n",
       "      <td>0.079570</td>\n",
       "      <td>-0.198697</td>\n",
       "    </tr>\n",
       "    <tr>\n",
       "      <th>month_to_end_contract</th>\n",
       "      <td>-0.001281</td>\n",
       "      <td>0.143961</td>\n",
       "      <td>0.294632</td>\n",
       "      <td>0.239553</td>\n",
       "      <td>-0.011196</td>\n",
       "      <td>0.973064</td>\n",
       "      <td>0.163703</td>\n",
       "      <td>0.134511</td>\n",
       "      <td>0.113958</td>\n",
       "      <td>1.000000</td>\n",
       "      <td>0.161078</td>\n",
       "      <td>0.085387</td>\n",
       "      <td>0.147605</td>\n",
       "      <td>-0.381393</td>\n",
       "    </tr>\n",
       "    <tr>\n",
       "      <th>lifetime</th>\n",
       "      <td>0.013579</td>\n",
       "      <td>0.070921</td>\n",
       "      <td>0.061229</td>\n",
       "      <td>0.072721</td>\n",
       "      <td>-0.018801</td>\n",
       "      <td>0.170725</td>\n",
       "      <td>0.075853</td>\n",
       "      <td>0.164693</td>\n",
       "      <td>0.079028</td>\n",
       "      <td>0.161078</td>\n",
       "      <td>1.000000</td>\n",
       "      <td>0.112338</td>\n",
       "      <td>0.181975</td>\n",
       "      <td>-0.438220</td>\n",
       "    </tr>\n",
       "    <tr>\n",
       "      <th>avg_class_frequency_total</th>\n",
       "      <td>0.014620</td>\n",
       "      <td>0.043127</td>\n",
       "      <td>0.024938</td>\n",
       "      <td>0.028063</td>\n",
       "      <td>0.008340</td>\n",
       "      <td>0.096211</td>\n",
       "      <td>0.056695</td>\n",
       "      <td>0.119953</td>\n",
       "      <td>0.044426</td>\n",
       "      <td>0.085387</td>\n",
       "      <td>0.112338</td>\n",
       "      <td>1.000000</td>\n",
       "      <td>0.952739</td>\n",
       "      <td>-0.249715</td>\n",
       "    </tr>\n",
       "    <tr>\n",
       "      <th>avg_class_frequency_current_month</th>\n",
       "      <td>0.009156</td>\n",
       "      <td>0.062664</td>\n",
       "      <td>0.045561</td>\n",
       "      <td>0.053768</td>\n",
       "      <td>0.013375</td>\n",
       "      <td>0.159407</td>\n",
       "      <td>0.075923</td>\n",
       "      <td>0.183095</td>\n",
       "      <td>0.079570</td>\n",
       "      <td>0.147605</td>\n",
       "      <td>0.181975</td>\n",
       "      <td>0.952739</td>\n",
       "      <td>1.000000</td>\n",
       "      <td>-0.412348</td>\n",
       "    </tr>\n",
       "    <tr>\n",
       "      <th>churn</th>\n",
       "      <td>0.000708</td>\n",
       "      <td>-0.128098</td>\n",
       "      <td>-0.157986</td>\n",
       "      <td>-0.162233</td>\n",
       "      <td>-0.001177</td>\n",
       "      <td>-0.389984</td>\n",
       "      <td>-0.175325</td>\n",
       "      <td>-0.404735</td>\n",
       "      <td>-0.198697</td>\n",
       "      <td>-0.381393</td>\n",
       "      <td>-0.438220</td>\n",
       "      <td>-0.249715</td>\n",
       "      <td>-0.412348</td>\n",
       "      <td>1.000000</td>\n",
       "    </tr>\n",
       "  </tbody>\n",
       "</table>\n",
       "</div>"
      ],
      "text/plain": [
       "                                     gender  near_location   partner  \\\n",
       "gender                             1.000000       0.006699 -0.010463   \n",
       "near_location                      0.006699       1.000000 -0.005119   \n",
       "partner                           -0.010463      -0.005119  1.000000   \n",
       "promo_friends                     -0.005033       0.210964  0.451960   \n",
       "phone                             -0.008542      -0.015763  0.009970   \n",
       "contract_period                    0.000502       0.150233  0.306166   \n",
       "group_visits                       0.017879       0.154728  0.022710   \n",
       "age                                0.013807       0.058358  0.047480   \n",
       "avg_additional_charges_total      -0.009334       0.040761  0.022941   \n",
       "month_to_end_contract             -0.001281       0.143961  0.294632   \n",
       "lifetime                           0.013579       0.070921  0.061229   \n",
       "avg_class_frequency_total          0.014620       0.043127  0.024938   \n",
       "avg_class_frequency_current_month  0.009156       0.062664  0.045561   \n",
       "churn                              0.000708      -0.128098 -0.157986   \n",
       "\n",
       "                                   promo_friends     phone  contract_period  \\\n",
       "gender                                 -0.005033 -0.008542         0.000502   \n",
       "near_location                           0.210964 -0.015763         0.150233   \n",
       "partner                                 0.451960  0.009970         0.306166   \n",
       "promo_friends                           1.000000  0.001982         0.244552   \n",
       "phone                                   0.001982  1.000000        -0.006893   \n",
       "contract_period                         0.244552 -0.006893         1.000000   \n",
       "group_visits                            0.120170 -0.010099         0.169991   \n",
       "age                                     0.050113 -0.011403         0.138249   \n",
       "avg_additional_charges_total            0.036898  0.009279         0.111445   \n",
       "month_to_end_contract                   0.239553 -0.011196         0.973064   \n",
       "lifetime                                0.072721 -0.018801         0.170725   \n",
       "avg_class_frequency_total               0.028063  0.008340         0.096211   \n",
       "avg_class_frequency_current_month       0.053768  0.013375         0.159407   \n",
       "churn                                  -0.162233 -0.001177        -0.389984   \n",
       "\n",
       "                                   group_visits       age  \\\n",
       "gender                                 0.017879  0.013807   \n",
       "near_location                          0.154728  0.058358   \n",
       "partner                                0.022710  0.047480   \n",
       "promo_friends                          0.120170  0.050113   \n",
       "phone                                 -0.010099 -0.011403   \n",
       "contract_period                        0.169991  0.138249   \n",
       "group_visits                           1.000000  0.080934   \n",
       "age                                    0.080934  1.000000   \n",
       "avg_additional_charges_total           0.032079  0.080240   \n",
       "month_to_end_contract                  0.163703  0.134511   \n",
       "lifetime                               0.075853  0.164693   \n",
       "avg_class_frequency_total              0.056695  0.119953   \n",
       "avg_class_frequency_current_month      0.075923  0.183095   \n",
       "churn                                 -0.175325 -0.404735   \n",
       "\n",
       "                                   avg_additional_charges_total  \\\n",
       "gender                                                -0.009334   \n",
       "near_location                                          0.040761   \n",
       "partner                                                0.022941   \n",
       "promo_friends                                          0.036898   \n",
       "phone                                                  0.009279   \n",
       "contract_period                                        0.111445   \n",
       "group_visits                                           0.032079   \n",
       "age                                                    0.080240   \n",
       "avg_additional_charges_total                           1.000000   \n",
       "month_to_end_contract                                  0.113958   \n",
       "lifetime                                               0.079028   \n",
       "avg_class_frequency_total                              0.044426   \n",
       "avg_class_frequency_current_month                      0.079570   \n",
       "churn                                                 -0.198697   \n",
       "\n",
       "                                   month_to_end_contract  lifetime  \\\n",
       "gender                                         -0.001281  0.013579   \n",
       "near_location                                   0.143961  0.070921   \n",
       "partner                                         0.294632  0.061229   \n",
       "promo_friends                                   0.239553  0.072721   \n",
       "phone                                          -0.011196 -0.018801   \n",
       "contract_period                                 0.973064  0.170725   \n",
       "group_visits                                    0.163703  0.075853   \n",
       "age                                             0.134511  0.164693   \n",
       "avg_additional_charges_total                    0.113958  0.079028   \n",
       "month_to_end_contract                           1.000000  0.161078   \n",
       "lifetime                                        0.161078  1.000000   \n",
       "avg_class_frequency_total                       0.085387  0.112338   \n",
       "avg_class_frequency_current_month               0.147605  0.181975   \n",
       "churn                                          -0.381393 -0.438220   \n",
       "\n",
       "                                   avg_class_frequency_total  \\\n",
       "gender                                              0.014620   \n",
       "near_location                                       0.043127   \n",
       "partner                                             0.024938   \n",
       "promo_friends                                       0.028063   \n",
       "phone                                               0.008340   \n",
       "contract_period                                     0.096211   \n",
       "group_visits                                        0.056695   \n",
       "age                                                 0.119953   \n",
       "avg_additional_charges_total                        0.044426   \n",
       "month_to_end_contract                               0.085387   \n",
       "lifetime                                            0.112338   \n",
       "avg_class_frequency_total                           1.000000   \n",
       "avg_class_frequency_current_month                   0.952739   \n",
       "churn                                              -0.249715   \n",
       "\n",
       "                                   avg_class_frequency_current_month     churn  \n",
       "gender                                                      0.009156  0.000708  \n",
       "near_location                                               0.062664 -0.128098  \n",
       "partner                                                     0.045561 -0.157986  \n",
       "promo_friends                                               0.053768 -0.162233  \n",
       "phone                                                       0.013375 -0.001177  \n",
       "contract_period                                             0.159407 -0.389984  \n",
       "group_visits                                                0.075923 -0.175325  \n",
       "age                                                         0.183095 -0.404735  \n",
       "avg_additional_charges_total                                0.079570 -0.198697  \n",
       "month_to_end_contract                                       0.147605 -0.381393  \n",
       "lifetime                                                    0.181975 -0.438220  \n",
       "avg_class_frequency_total                                   0.952739 -0.249715  \n",
       "avg_class_frequency_current_month                           1.000000 -0.412348  \n",
       "churn                                                      -0.412348  1.000000  "
      ]
     },
     "metadata": {},
     "output_type": "display_data"
    }
   ],
   "source": [
    "heatmap = gym_data.corr()\n",
    "display(gym_data.corr())"
   ]
  },
  {
   "cell_type": "code",
   "execution_count": 17,
   "metadata": {},
   "outputs": [
    {
     "data": {
      "image/png": "[encoded data removed]",
      "text/plain": [
       "<Figure size 864x720 with 2 Axes>"
      ]
     },
     "metadata": {
      "needs_background": "light"
     },
     "output_type": "display_data"
    }
   ],
   "source": [
    "fig, ax = plt.subplots(figsize = (12,10))\n",
    "\n",
    "sns.heatmap(heatmap, cmap='coolwarm', linewidth  = 0.5, square=True, annot = True, fmt = ',.3f')\n",
    "plt.title(\"Features correlation heatmap\", fontsize=20)\n",
    "plt.show()"
   ]
  },
  {
   "cell_type": "markdown",
   "metadata": {},
   "source": [
    "We don't see strong correlation between churn and other features but this is because we have just 2 options for most of the features. But we have very strong correlation between total weekly visits and weekly visits for last month (0.95), so we will leave just one of them - visits for the last month, it shows possible churn better as we noticed before. Also we have strong correlation between contract period and month till the end of contract (0.97). We also need to drop one of them and we will leave just contract period for the purpose of building our churn prediction model. Also during the previous analysis we saw that there is no dependence of churn on gender and phone features, we will drop those features too.\n",
    "\n",
    "So, we will leave the following 8 features for our prediction model: near_location, partner, promo_friends, contract_period, group_visits, avg_additional_charges_total, lifetime, avg_class_frequency_current_month.\n",
    "\n",
    "Let's look at distributions of our features where we have histograms more carefully. We will compare churn and non churn data frames, plotting histograms on one graph for churn and non churn customers."
   ]
  },
  {
   "cell_type": "markdown",
   "metadata": {},
   "source": [
    "## Build a model to predict user churn"
   ]
  },
  {
   "cell_type": "markdown",
   "metadata": {},
   "source": [
    "In order to build a binary classification model for customers where the target feature is the user's leaving next month we will perform the following steps:\n",
    "\n",
    "1. Prepare the data by removing the columns which are not our features we have determined on the previous step.\n",
    "2. Create X (features) and Y (churn) samples\n",
    "3. Split these data into train and test samples\n",
    "4. Standardize data\n",
    "5. Apply different logistic regression and random forest algorithms\n",
    "6. Analyze the key metrics of the models (accuracy,precision, recall, F1)\n"
   ]
  },
  {
   "cell_type": "markdown",
   "metadata": {},
   "source": [
    "### Removing irrelevant features"
   ]
  },
  {
   "cell_type": "code",
   "execution_count": 25,
   "metadata": {},
   "outputs": [
    {
     "name": "stdout",
     "output_type": "stream",
     "text": [
      "<class 'pandas.core.frame.DataFrame'>\n",
      "RangeIndex: 4000 entries, 0 to 3999\n",
      "Data columns (total 10 columns):\n",
      " #   Column                             Non-Null Count  Dtype  \n",
      "---  ------                             --------------  -----  \n",
      " 0   near_location                      4000 non-null   int64  \n",
      " 1   partner                            4000 non-null   int64  \n",
      " 2   promo_friends                      4000 non-null   int64  \n",
      " 3   contract_period                    4000 non-null   int64  \n",
      " 4   group_visits                       4000 non-null   int64  \n",
      " 5   age                                4000 non-null   int64  \n",
      " 6   avg_additional_charges_total       4000 non-null   float64\n",
      " 7   lifetime                           4000 non-null   int64  \n",
      " 8   avg_class_frequency_current_month  4000 non-null   float64\n",
      " 9   churn                              4000 non-null   int64  \n",
      "dtypes: float64(2), int64(8)\n",
      "memory usage: 312.6 KB\n"
     ]
    }
   ],
   "source": [
    "\n",
    "gym_data_clear = gym_data.drop(['avg_class_frequency_total','month_to_end_contract','gender','phone'], axis=1)\n",
    "gym_data_clear.info()"
   ]
  },
  {
   "cell_type": "markdown",
   "metadata": {},
   "source": [
    "### Dividing the data into features (the X matrix) and a target variable (Y)"
   ]
  },
  {
   "cell_type": "code",
   "execution_count": 19,
   "metadata": {},
   "outputs": [],
   "source": [
    "X = gym_data_clear.drop('churn', axis = 1)\n",
    "Y = gym_data_clear['churn']"
   ]
  },
  {
   "cell_type": "markdown",
   "metadata": {},
   "source": [
    "### Divide the data into train and validation sets using the train_test_split() function.\n"
   ]
  },
  {
   "cell_type": "code",
   "execution_count": 20,
   "metadata": {},
   "outputs": [],
   "source": [
    "X_train, X_test, y_train, y_test = train_test_split(\n",
    "    X, Y, test_size=0.2, random_state=0)"
   ]
  },
  {
   "cell_type": "markdown",
   "metadata": {},
   "source": [
    "### Train the model on the train set with two methods:\n",
    "\n",
    "\n",
    "- logistic regression\n",
    "- random forest\n"
   ]
  },
  {
   "cell_type": "code",
   "execution_count": 21,
   "metadata": {},
   "outputs": [
    {
     "name": "stdout",
     "output_type": "stream",
     "text": [
      "Metrics for logistic regression:\n",
      "\tAccuracy: 0.90\n",
      "\tPrecision: 0.79\n",
      "\tRecall: 0.81\n",
      "\tF1: 0.80\n",
      "Metrics for random forest:\n",
      "\tAccuracy: 0.89\n",
      "\tPrecision: 0.79\n",
      "\tRecall: 0.75\n",
      "\tF1: 0.77\n"
     ]
    }
   ],
   "source": [
    "def print_all_metrics(y_true, y_pred, y_proba, title = 'Classification metrics'):\n",
    "    print(title)\n",
    "    print('\\tAccuracy: {:.2f}'.format(accuracy_score(y_true, y_pred)))\n",
    "    print('\\tPrecision: {:.2f}'.format(precision_score(y_true, y_pred)))\n",
    "    print('\\tRecall: {:.2f}'.format(recall_score(y_true, y_pred)))\n",
    "    print('\\tF1: {:.2f}'.format(f1_score(y_true, y_pred)))\n",
    "\n",
    "# logistic regression\n",
    "\n",
    "# create a StandardScaler object and apply it to the train set\n",
    "scaler = StandardScaler()\n",
    "scaler.fit(X_train)\n",
    "X_train_st = scaler.transform(X_train)\n",
    "\n",
    "# apply standardization to the feature matrix for the test set\n",
    "X_test_st = scaler.transform(X_test)\n",
    "\n",
    "# define the model's algorithm \n",
    "lr_model = LogisticRegression(random_state = 0)\n",
    "# train your model\n",
    "lr_model.fit(X_train_st, y_train)\n",
    "lr_predictions = lr_model.predict(X_test_st)\n",
    "lr_probabilities = lr_model.predict_proba(X_test_st)[:,1]\n",
    "print_all_metrics(y_test, lr_predictions, lr_probabilities , title='Metrics for logistic regression:')\n",
    "\n",
    "\n",
    "# define the model's algorithm \n",
    "rf_model = RandomForestClassifier(n_estimators = 100, random_state = 0)\n",
    "# train your model\n",
    "rf_model.fit(X_train, y_train)\n",
    "rf_predictions = rf_model.predict(X_test)\n",
    "rf_probabilities = rf_model.predict_proba(X_test_st)[:,1]\n",
    "print_all_metrics(y_test, rf_predictions, rf_probabilities, title='Metrics for random forest:')"
   ]
  },
  {
   "cell_type": "markdown",
   "metadata": {},
   "source": [
    "### Evaluate accuracy, precision, and recall for both models using the validation data. Use them to compare the models. Which model gave better results?"
   ]
  },
  {
   "cell_type": "markdown",
   "metadata": {},
   "source": [
    "Both models demonstrate high level of accuracy, which means that they accurately identified churned and staying customers. \n",
    "\n",
    "With regards to presicion, RandomForest model and LogisticRegression model return equal results, meaning 18% of customers were classified as staying even though they churned. \n",
    "\n",
    "Recall is higher in LogisticRegression model, meaning that approximately 19% of customers were classified as churn, even though they were staying.\n",
    "\n",
    "The purpose of each model is to identify churn the following month, which is what Recall metric is about, hence it is better to identify more falsely classified churned customers rather than miss some of them. LogisticRegression modeldemonstrates better results with this regard and is better suited for the task."
   ]
  },
  {
   "cell_type": "markdown",
   "metadata": {},
   "source": [
    "## Create user clusters"
   ]
  },
  {
   "cell_type": "markdown",
   "metadata": {},
   "source": [
    "### Build a matrix of distances based on the standardized feature matrix and plot a dendrogram"
   ]
  },
  {
   "cell_type": "markdown",
   "metadata": {},
   "source": [
    "First let's standardize the data"
   ]
  },
  {
   "cell_type": "code",
   "execution_count": 22,
   "metadata": {},
   "outputs": [],
   "source": [
    "scaler = StandardScaler()\n",
    "X_sc = scaler.fit_transform(X)"
   ]
  },
  {
   "cell_type": "markdown",
   "metadata": {},
   "source": [
    "Time to build matrix of distances"
   ]
  },
  {
   "cell_type": "code",
   "execution_count": 23,
   "metadata": {},
   "outputs": [
    {
     "data": {
      "image/png": "[encoded data removed]",
      "text/plain": [
       "<Figure size 1080x720 with 1 Axes>"
      ]
     },
     "metadata": {
      "needs_background": "light"
     },
     "output_type": "display_data"
    }
   ],
   "source": [
    "# Building a matrix of distances\n",
    "linked = linkage(X_sc, method = 'ward')\n",
    "\n",
    "# Plotting a dendogram\n",
    "plt.figure(figsize=(15, 10))  \n",
    "dendrogram(linked, orientation='top')\n",
    "plt.title('Hierarchical clustering for Model Fitness')\n",
    "plt.show()"
   ]
  },
  {
   "cell_type": "markdown",
   "metadata": {},
   "source": [
    "As a result we get 3 cluaters defined by color "
   ]
  },
  {
   "cell_type": "markdown",
   "metadata": {},
   "source": [
    "### Train the clustering model with the K-means algorithm and predict customer clusters."
   ]
  },
  {
   "cell_type": "code",
   "execution_count": 35,
   "metadata": {},
   "outputs": [
    {
     "data": {
      "text/html": [
       "<div>\n",
       "<style scoped>\n",
       "    .dataframe tbody tr th:only-of-type {\n",
       "        vertical-align: middle;\n",
       "    }\n",
       "\n",
       "    .dataframe tbody tr th {\n",
       "        vertical-align: top;\n",
       "    }\n",
       "\n",
       "    .dataframe thead th {\n",
       "        text-align: right;\n",
       "    }\n",
       "</style>\n",
       "<table border=\"1\" class=\"dataframe\">\n",
       "  <thead>\n",
       "    <tr style=\"text-align: right;\">\n",
       "      <th></th>\n",
       "      <th>cluster</th>\n",
       "      <th>near_location</th>\n",
       "      <th>partner</th>\n",
       "      <th>promo_friends</th>\n",
       "      <th>contract_period</th>\n",
       "      <th>group_visits</th>\n",
       "      <th>age</th>\n",
       "      <th>avg_additional_charges_total</th>\n",
       "      <th>lifetime</th>\n",
       "      <th>avg_class_frequency_current_month</th>\n",
       "      <th>churn</th>\n",
       "    </tr>\n",
       "  </thead>\n",
       "  <tbody>\n",
       "    <tr>\n",
       "      <th>0</th>\n",
       "      <td>0</td>\n",
       "      <td>0.000000</td>\n",
       "      <td>0.485997</td>\n",
       "      <td>0.074135</td>\n",
       "      <td>2.937397</td>\n",
       "      <td>0.225700</td>\n",
       "      <td>28.668863</td>\n",
       "      <td>136.314502</td>\n",
       "      <td>3.003295</td>\n",
       "      <td>1.592556</td>\n",
       "      <td>0.403624</td>\n",
       "    </tr>\n",
       "    <tr>\n",
       "      <th>1</th>\n",
       "      <td>1</td>\n",
       "      <td>0.998818</td>\n",
       "      <td>0.131206</td>\n",
       "      <td>0.086288</td>\n",
       "      <td>2.160757</td>\n",
       "      <td>0.524823</td>\n",
       "      <td>30.834515</td>\n",
       "      <td>170.254088</td>\n",
       "      <td>5.465721</td>\n",
       "      <td>2.281747</td>\n",
       "      <td>0.056738</td>\n",
       "    </tr>\n",
       "    <tr>\n",
       "      <th>2</th>\n",
       "      <td>2</td>\n",
       "      <td>1.000000</td>\n",
       "      <td>0.252298</td>\n",
       "      <td>0.102145</td>\n",
       "      <td>1.764045</td>\n",
       "      <td>0.256384</td>\n",
       "      <td>27.090909</td>\n",
       "      <td>114.763747</td>\n",
       "      <td>1.606742</td>\n",
       "      <td>1.100117</td>\n",
       "      <td>0.658836</td>\n",
       "    </tr>\n",
       "    <tr>\n",
       "      <th>3</th>\n",
       "      <td>3</td>\n",
       "      <td>0.989130</td>\n",
       "      <td>0.621377</td>\n",
       "      <td>0.000000</td>\n",
       "      <td>10.760870</td>\n",
       "      <td>0.501812</td>\n",
       "      <td>30.076087</td>\n",
       "      <td>166.100486</td>\n",
       "      <td>4.563406</td>\n",
       "      <td>2.063359</td>\n",
       "      <td>0.028986</td>\n",
       "    </tr>\n",
       "    <tr>\n",
       "      <th>4</th>\n",
       "      <td>4</td>\n",
       "      <td>0.995079</td>\n",
       "      <td>0.936024</td>\n",
       "      <td>1.000000</td>\n",
       "      <td>7.329724</td>\n",
       "      <td>0.531496</td>\n",
       "      <td>29.650591</td>\n",
       "      <td>154.484128</td>\n",
       "      <td>4.291339</td>\n",
       "      <td>1.924390</td>\n",
       "      <td>0.105315</td>\n",
       "    </tr>\n",
       "  </tbody>\n",
       "</table>\n",
       "</div>"
      ],
      "text/plain": [
       "   cluster  near_location   partner  promo_friends  contract_period  \\\n",
       "0        0       0.000000  0.485997       0.074135         2.937397   \n",
       "1        1       0.998818  0.131206       0.086288         2.160757   \n",
       "2        2       1.000000  0.252298       0.102145         1.764045   \n",
       "3        3       0.989130  0.621377       0.000000        10.760870   \n",
       "4        4       0.995079  0.936024       1.000000         7.329724   \n",
       "\n",
       "   group_visits        age  avg_additional_charges_total  lifetime  \\\n",
       "0      0.225700  28.668863                    136.314502  3.003295   \n",
       "1      0.524823  30.834515                    170.254088  5.465721   \n",
       "2      0.256384  27.090909                    114.763747  1.606742   \n",
       "3      0.501812  30.076087                    166.100486  4.563406   \n",
       "4      0.531496  29.650591                    154.484128  4.291339   \n",
       "\n",
       "   avg_class_frequency_current_month     churn  \n",
       "0                           1.592556  0.403624  \n",
       "1                           2.281747  0.056738  \n",
       "2                           1.100117  0.658836  \n",
       "3                           2.063359  0.028986  \n",
       "4                           1.924390  0.105315  "
      ]
     },
     "execution_count": 35,
     "metadata": {},
     "output_type": "execute_result"
    }
   ],
   "source": [
    "# setting cluster number\n",
    "km = KMeans(n_clusters = 5)\n",
    "\n",
    "# applying the algorithm\n",
    "labels = km.fit_predict(X_sc)\n",
    "\n",
    "# storing cluster numbers in a new column of the dataframe\n",
    "gym_data_clear['cluster'] = labels\n",
    "\n",
    "df_cluster = gym_data_clear.groupby('cluster').mean().reset_index()\n",
    "df_cluster"
   ]
  },
  {
   "cell_type": "markdown",
   "metadata": {},
   "source": [
    "### Plot distributions of features for the clusters."
   ]
  },
  {
   "cell_type": "code",
   "execution_count": 65,
   "metadata": {
    "scrolled": false
   },
   "outputs": [
    {
     "data": {
      "image/png": "[encoded data removed]",
      "text/plain": [
       "<Figure size 432x288 with 1 Axes>"
      ]
     },
     "metadata": {
      "needs_background": "light"
     },
     "output_type": "display_data"
    },
    {
     "data": {
      "image/png": "[encoded data removed]",
      "text/plain": [
       "<Figure size 432x288 with 1 Axes>"
      ]
     },
     "metadata": {
      "needs_background": "light"
     },
     "output_type": "display_data"
    },
    {
     "data": {
      "image/png": "[encoded data removed]",
      "text/plain": [
       "<Figure size 432x288 with 1 Axes>"
      ]
     },
     "metadata": {
      "needs_background": "light"
     },
     "output_type": "display_data"
    },
    {
     "data": {
      "image/png": "[encoded data removed]",
      "text/plain": [
       "<Figure size 432x288 with 1 Axes>"
      ]
     },
     "metadata": {
      "needs_background": "light"
     },
     "output_type": "display_data"
    },
    {
     "data": {
      "image/png": "[encoded data removed]",
      "text/plain": [
       "<Figure size 432x288 with 1 Axes>"
      ]
     },
     "metadata": {
      "needs_background": "light"
     },
     "output_type": "display_data"
    },
    {
     "data": {
      "image/png": "[encoded data removed]",
      "text/plain": [
       "<Figure size 432x288 with 1 Axes>"
      ]
     },
     "metadata": {
      "needs_background": "light"
     },
     "output_type": "display_data"
    },
    {
     "data": {
      "image/png": "[encoded data removed]",
      "text/plain": [
       "<Figure size 432x288 with 1 Axes>"
      ]
     },
     "metadata": {
      "needs_background": "light"
     },
     "output_type": "display_data"
    },
    {
     "data": {
      "image/png": "[encoded data removed]",
      "text/plain": [
       "<Figure size 432x288 with 1 Axes>"
      ]
     },
     "metadata": {
      "needs_background": "light"
     },
     "output_type": "display_data"
    },
    {
     "data": {
      "image/png": "[encoded data removed]",
      "text/plain": [
       "<Figure size 432x288 with 1 Axes>"
      ]
     },
     "metadata": {
      "needs_background": "light"
     },
     "output_type": "display_data"
    },
    {
     "data": {
      "image/png": "[encoded data removed]",
      "text/plain": [
       "<Figure size 432x288 with 1 Axes>"
      ]
     },
     "metadata": {
      "needs_background": "light"
     },
     "output_type": "display_data"
    }
   ],
   "source": [
    "for feature in gym_data_clear.drop('cluster', axis=1).columns:\n",
    "    sns.histplot(gym_data_clear, x=feature, hue='cluster', palette='muted')\n",
    "    plt.show()"
   ]
  },
  {
   "cell_type": "markdown",
   "metadata": {},
   "source": [
    "### Calculate the churn rate for each cluster\n"
   ]
  },
  {
   "cell_type": "code",
   "execution_count": 60,
   "metadata": {},
   "outputs": [
    {
     "data": {
      "text/plain": [
       "cluster\n",
       "0    40.4%\n",
       "1     5.7%\n",
       "2    65.9%\n",
       "3     2.9%\n",
       "4    10.5%\n",
       "Name: churn, dtype: object"
      ]
     },
     "execution_count": 60,
     "metadata": {},
     "output_type": "execute_result"
    }
   ],
   "source": [
    "gym_data_clear.groupby(['cluster']).mean()['churn'].round(3).map(\"{:.1%}\".format)"
   ]
  },
  {
   "cell_type": "markdown",
   "metadata": {},
   "source": [
    "We can see the lowest churn rates among clusters 1, 3 and 4 with 5.7%, 2.9%, and 10.5% churn rates respectively. \n",
    "Cluster 0 and 2 has the highest churn rate of 65.9% which also account fr the lowest contract lifetime among all clusters."
   ]
  },
  {
   "cell_type": "markdown",
   "metadata": {},
   "source": [
    "## Conclusions and basic recommendations on working with customers"
   ]
  },
  {
   "cell_type": "markdown",
   "metadata": {},
   "source": [
    "In conclusion to our analysis we could state, that the most important features that influence churn of the customers are the following: the contract period they signed up for, the company's partners program and attendance frequency.\n",
    "\n",
    "First, the signing of long-term contracts proves to be a way to reduce churn, hence the share of such contracts has to be increased. Also, new stmuli, benefits has to be invented to monivate customers choose to sighn for a long time. \n",
    "\n",
    "Customers who join through partnership programs are more likely to stay for longer, thus this should see major improvements in terms of marketing and partners acquisition tactics.\n",
    "\n",
    "The more regularly customers visit the gym, the more likely they will form a habit and stay for long. In order to help them on this way, the company should bring its attention to listening what the customers have to say by conducting surveys on all aspects of their experience with the gym (training experience, convenience, equipment, cleanliness, staff, events, etc.)."
   ]
  }
 ],
 "metadata": {
  "kernelspec": {
   "display_name": "Python 3 (ipykernel)",
   "language": "python",
   "name": "python3"
  },
  "language_info": {
   "codemirror_mode": {
    "name": "ipython",
    "version": 3
   },
   "file_extension": ".py",
   "mimetype": "text/x-python",
   "name": "python",
   "nbconvert_exporter": "python",
   "pygments_lexer": "ipython3",
   "version": "3.11.5"
  },
  "toc": {
   "base_numbering": 1,
   "nav_menu": {},
   "number_sections": true,
   "sideBar": true,
   "skip_h1_title": true,
   "title_cell": "Table of Contents",
   "title_sidebar": "Contents",
   "toc_cell": false,
   "toc_position": {},
   "toc_section_display": true,
   "toc_window_display": false
  }
 },
 "nbformat": 4,
 "nbformat_minor": 2
}
